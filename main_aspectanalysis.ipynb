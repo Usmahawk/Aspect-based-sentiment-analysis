{
 "cells": [
  {
   "cell_type": "markdown",
   "metadata": {},
   "source": [
    "### The goal of this project is to complete the Aspect-based Sentiment Analysis (ABSA) task. ABSA task aims at identifying the sentiment polarity (e.g.positive, negative, neutral) of one specific aspect in its context sentence usig Deep Learning Models, Natural language Processing and Attention Mechanism. \n",
    "\n",
    "### We  design different model variants to differently integrate the aspect information in our model structures (e.g. different locations, different integration methods etc. ) using Attention Mechanism. "
   ]
  },
  {
   "cell_type": "markdown",
   "metadata": {
    "id": "77oROC6IeI7T"
   },
   "source": [
    "# 1.Dataset Processing\n",
    "\n",
    "**Note:**\n",
    "\n",
    "*   Change path to dataset location.\n"
   ]
  },
  {
   "cell_type": "code",
   "execution_count": null,
   "metadata": {
    "id": "M4hshFTJxH4f"
   },
   "outputs": [],
   "source": [
    "import pandas as pd\n",
    "import numpy as np"
   ]
  },
  {
   "cell_type": "code",
   "execution_count": null,
   "metadata": {
    "colab": {
     "base_uri": "https://localhost:8080/"
    },
    "id": "QSm-tJRx5VWQ",
    "outputId": "d22803bc-58e8-4c8d-fae2-c6abe0804b13"
   },
   "outputs": [
    {
     "name": "stdout",
     "output_type": "stream",
     "text": [
      "Drive already mounted at /content/drive; to attempt to forcibly remount, call drive.mount(\"/content/drive\", force_remount=True).\n"
     ]
    }
   ],
   "source": [
    "from google.colab import drive\n",
    "drive.mount('/content/drive')"
   ]
  },
  {
   "cell_type": "code",
   "execution_count": null,
   "metadata": {
    "id": "Hn8xs1D9xLH4"
   },
   "outputs": [],
   "source": [
    "#Loading Train set\n",
    "train_df = pd.read_json('/content/drive/MyDrive/Colab Notebooks/NLP/Assignment/train.json', lines=True)\n",
    "train_data = train_df['data'][0]\n",
    "Sentence, Aspect, Polarity = zip(*train_data)\n",
    "train_data = pd.DataFrame()\n",
    "train_data[\"Sentences\"]= Sentence\n",
    "train_data[\"Aspect\"]= Aspect\n",
    "train_data[\"Polarity\"]= Polarity\n",
    "corpus_np = train_data.to_numpy() # Creating a numpy array for train_data"
   ]
  },
  {
   "cell_type": "code",
   "execution_count": null,
   "metadata": {
    "id": "dCIUt0NBka0U"
   },
   "outputs": [],
   "source": [
    "#Loading Test set\n",
    "test_df = pd.read_json('/content/drive/MyDrive/Colab Notebooks/NLP/Assignment/test.json', lines=True)\n",
    "test_data = test_df['data'][0]\n",
    "Sentence, Aspect, Polarity = zip(*test_data)\n",
    "test_data = pd.DataFrame()\n",
    "test_data[\"Sentences\"]= Sentence\n",
    "test_data[\"Aspect\"]= Aspect\n",
    "test_data[\"Polarity\"]= Polarity\n",
    "test_corpus_np = test_data.to_numpy() # Creating a numpy array for test_data"
   ]
  },
  {
   "cell_type": "code",
   "execution_count": null,
   "metadata": {
    "id": "vxISOyfwkvr3"
   },
   "outputs": [],
   "source": [
    "#Loading Validation set\n",
    "val_df = pd.read_json('/content/drive/MyDrive/Colab Notebooks/NLP/Assignment/val.json', lines=True)\n",
    "val_data = val_df['data'][0]\n",
    "Sentence, Aspect, Polarity = zip(*val_data)\n",
    "val_data = pd.DataFrame()\n",
    "val_data[\"Sentences\"]= Sentence\n",
    "val_data[\"Aspect\"]= Aspect\n",
    "val_data[\"Polarity\"]= Polarity\n",
    "val_corpus_np = val_data.to_numpy()# Creating a numpy array for val_data"
   ]
  },
  {
   "cell_type": "code",
   "execution_count": null,
   "metadata": {
    "colab": {
     "base_uri": "https://localhost:8080/",
     "height": 221
    },
    "id": "fmVg8joDbGOL",
    "outputId": "26ea6760-38eb-426d-de9b-e5c13bce3106"
   },
   "outputs": [
    {
     "data": {
      "application/vnd.google.colaboratory.intrinsic+json": {
       "summary": "{\n  \"name\": \"train_data\",\n  \"rows\": 7090,\n  \"fields\": [\n    {\n      \"column\": \"Sentences\",\n      \"properties\": {\n        \"dtype\": \"category\",\n        \"num_unique_values\": 3149,\n        \"samples\": [\n          \"Our waiter took his time taking our drink orders ('97 Italian red was good).\",\n          \"The waiter was able to answer any questions I had about the wine or food.\",\n          \"the heroes are enough for lunch and dinner.\"\n        ],\n        \"semantic_type\": \"\",\n        \"description\": \"\"\n      }\n    },\n    {\n      \"column\": \"Aspect\",\n      \"properties\": {\n        \"dtype\": \"category\",\n        \"num_unique_values\": 8,\n        \"samples\": [\n          \"place\",\n          \"price\",\n          \"food\"\n        ],\n        \"semantic_type\": \"\",\n        \"description\": \"\"\n      }\n    },\n    {\n      \"column\": \"Polarity\",\n      \"properties\": {\n        \"dtype\": \"category\",\n        \"num_unique_values\": 3,\n        \"samples\": [\n          \"positive\",\n          \"neutral\",\n          \"negative\"\n        ],\n        \"semantic_type\": \"\",\n        \"description\": \"\"\n      }\n    }\n  ]\n}",
       "type": "dataframe",
       "variable_name": "train_data"
      },
      "text/html": [
       "\n",
       "  <div id=\"df-310456e7-d867-45a0-b23d-a3ec15b285fd\" class=\"colab-df-container\">\n",
       "    <div>\n",
       "<style scoped>\n",
       "    .dataframe tbody tr th:only-of-type {\n",
       "        vertical-align: middle;\n",
       "    }\n",
       "\n",
       "    .dataframe tbody tr th {\n",
       "        vertical-align: top;\n",
       "    }\n",
       "\n",
       "    .dataframe thead th {\n",
       "        text-align: right;\n",
       "    }\n",
       "</style>\n",
       "<table border=\"1\" class=\"dataframe\">\n",
       "  <thead>\n",
       "    <tr style=\"text-align: right;\">\n",
       "      <th></th>\n",
       "      <th>Sentences</th>\n",
       "      <th>Aspect</th>\n",
       "      <th>Polarity</th>\n",
       "    </tr>\n",
       "  </thead>\n",
       "  <tbody>\n",
       "    <tr>\n",
       "      <th>0</th>\n",
       "      <td>It might be the best sit down food I've had in...</td>\n",
       "      <td>food</td>\n",
       "      <td>positive</td>\n",
       "    </tr>\n",
       "    <tr>\n",
       "      <th>1</th>\n",
       "      <td>It might be the best sit down food I've had in...</td>\n",
       "      <td>place</td>\n",
       "      <td>neutral</td>\n",
       "    </tr>\n",
       "    <tr>\n",
       "      <th>2</th>\n",
       "      <td>Hostess was extremely accommodating when we ar...</td>\n",
       "      <td>staff</td>\n",
       "      <td>positive</td>\n",
       "    </tr>\n",
       "    <tr>\n",
       "      <th>3</th>\n",
       "      <td>Hostess was extremely accommodating when we ar...</td>\n",
       "      <td>miscellaneous</td>\n",
       "      <td>neutral</td>\n",
       "    </tr>\n",
       "    <tr>\n",
       "      <th>4</th>\n",
       "      <td>We were a couple of minutes late for our reser...</td>\n",
       "      <td>miscellaneous</td>\n",
       "      <td>neutral</td>\n",
       "    </tr>\n",
       "  </tbody>\n",
       "</table>\n",
       "</div>\n",
       "    <div class=\"colab-df-buttons\">\n",
       "\n",
       "  <div class=\"colab-df-container\">\n",
       "    <button class=\"colab-df-convert\" onclick=\"convertToInteractive('df-310456e7-d867-45a0-b23d-a3ec15b285fd')\"\n",
       "            title=\"Convert this dataframe to an interactive table.\"\n",
       "            style=\"display:none;\">\n",
       "\n",
       "  <svg xmlns=\"http://www.w3.org/2000/svg\" height=\"24px\" viewBox=\"0 -960 960 960\">\n",
       "    <path d=\"M120-120v-720h720v720H120Zm60-500h600v-160H180v160Zm220 220h160v-160H400v160Zm0 220h160v-160H400v160ZM180-400h160v-160H180v160Zm440 0h160v-160H620v160ZM180-180h160v-160H180v160Zm440 0h160v-160H620v160Z\"/>\n",
       "  </svg>\n",
       "    </button>\n",
       "\n",
       "  <style>\n",
       "    .colab-df-container {\n",
       "      display:flex;\n",
       "      gap: 12px;\n",
       "    }\n",
       "\n",
       "    .colab-df-convert {\n",
       "      background-color: #E8F0FE;\n",
       "      border: none;\n",
       "      border-radius: 50%;\n",
       "      cursor: pointer;\n",
       "      display: none;\n",
       "      fill: #1967D2;\n",
       "      height: 32px;\n",
       "      padding: 0 0 0 0;\n",
       "      width: 32px;\n",
       "    }\n",
       "\n",
       "    .colab-df-convert:hover {\n",
       "      background-color: #E2EBFA;\n",
       "      box-shadow: 0px 1px 2px rgba(60, 64, 67, 0.3), 0px 1px 3px 1px rgba(60, 64, 67, 0.15);\n",
       "      fill: #174EA6;\n",
       "    }\n",
       "\n",
       "    .colab-df-buttons div {\n",
       "      margin-bottom: 4px;\n",
       "    }\n",
       "\n",
       "    [theme=dark] .colab-df-convert {\n",
       "      background-color: #3B4455;\n",
       "      fill: #D2E3FC;\n",
       "    }\n",
       "\n",
       "    [theme=dark] .colab-df-convert:hover {\n",
       "      background-color: #434B5C;\n",
       "      box-shadow: 0px 1px 3px 1px rgba(0, 0, 0, 0.15);\n",
       "      filter: drop-shadow(0px 1px 2px rgba(0, 0, 0, 0.3));\n",
       "      fill: #FFFFFF;\n",
       "    }\n",
       "  </style>\n",
       "\n",
       "    <script>\n",
       "      const buttonEl =\n",
       "        document.querySelector('#df-310456e7-d867-45a0-b23d-a3ec15b285fd button.colab-df-convert');\n",
       "      buttonEl.style.display =\n",
       "        google.colab.kernel.accessAllowed ? 'block' : 'none';\n",
       "\n",
       "      async function convertToInteractive(key) {\n",
       "        const element = document.querySelector('#df-310456e7-d867-45a0-b23d-a3ec15b285fd');\n",
       "        const dataTable =\n",
       "          await google.colab.kernel.invokeFunction('convertToInteractive',\n",
       "                                                    [key], {});\n",
       "        if (!dataTable) return;\n",
       "\n",
       "        const docLinkHtml = 'Like what you see? Visit the ' +\n",
       "          '<a target=\"_blank\" href=https://colab.research.google.com/notebooks/data_table.ipynb>data table notebook</a>'\n",
       "          + ' to learn more about interactive tables.';\n",
       "        element.innerHTML = '';\n",
       "        dataTable['output_type'] = 'display_data';\n",
       "        await google.colab.output.renderOutput(dataTable, element);\n",
       "        const docLink = document.createElement('div');\n",
       "        docLink.innerHTML = docLinkHtml;\n",
       "        element.appendChild(docLink);\n",
       "      }\n",
       "    </script>\n",
       "  </div>\n",
       "\n",
       "\n",
       "<div id=\"df-d34293f1-cddc-4831-952c-a8446cd6fd23\">\n",
       "  <button class=\"colab-df-quickchart\" onclick=\"quickchart('df-d34293f1-cddc-4831-952c-a8446cd6fd23')\"\n",
       "            title=\"Suggest charts\"\n",
       "            style=\"display:none;\">\n",
       "\n",
       "<svg xmlns=\"http://www.w3.org/2000/svg\" height=\"24px\"viewBox=\"0 0 24 24\"\n",
       "     width=\"24px\">\n",
       "    <g>\n",
       "        <path d=\"M19 3H5c-1.1 0-2 .9-2 2v14c0 1.1.9 2 2 2h14c1.1 0 2-.9 2-2V5c0-1.1-.9-2-2-2zM9 17H7v-7h2v7zm4 0h-2V7h2v10zm4 0h-2v-4h2v4z\"/>\n",
       "    </g>\n",
       "</svg>\n",
       "  </button>\n",
       "\n",
       "<style>\n",
       "  .colab-df-quickchart {\n",
       "      --bg-color: #E8F0FE;\n",
       "      --fill-color: #1967D2;\n",
       "      --hover-bg-color: #E2EBFA;\n",
       "      --hover-fill-color: #174EA6;\n",
       "      --disabled-fill-color: #AAA;\n",
       "      --disabled-bg-color: #DDD;\n",
       "  }\n",
       "\n",
       "  [theme=dark] .colab-df-quickchart {\n",
       "      --bg-color: #3B4455;\n",
       "      --fill-color: #D2E3FC;\n",
       "      --hover-bg-color: #434B5C;\n",
       "      --hover-fill-color: #FFFFFF;\n",
       "      --disabled-bg-color: #3B4455;\n",
       "      --disabled-fill-color: #666;\n",
       "  }\n",
       "\n",
       "  .colab-df-quickchart {\n",
       "    background-color: var(--bg-color);\n",
       "    border: none;\n",
       "    border-radius: 50%;\n",
       "    cursor: pointer;\n",
       "    display: none;\n",
       "    fill: var(--fill-color);\n",
       "    height: 32px;\n",
       "    padding: 0;\n",
       "    width: 32px;\n",
       "  }\n",
       "\n",
       "  .colab-df-quickchart:hover {\n",
       "    background-color: var(--hover-bg-color);\n",
       "    box-shadow: 0 1px 2px rgba(60, 64, 67, 0.3), 0 1px 3px 1px rgba(60, 64, 67, 0.15);\n",
       "    fill: var(--button-hover-fill-color);\n",
       "  }\n",
       "\n",
       "  .colab-df-quickchart-complete:disabled,\n",
       "  .colab-df-quickchart-complete:disabled:hover {\n",
       "    background-color: var(--disabled-bg-color);\n",
       "    fill: var(--disabled-fill-color);\n",
       "    box-shadow: none;\n",
       "  }\n",
       "\n",
       "  .colab-df-spinner {\n",
       "    border: 2px solid var(--fill-color);\n",
       "    border-color: transparent;\n",
       "    border-bottom-color: var(--fill-color);\n",
       "    animation:\n",
       "      spin 1s steps(1) infinite;\n",
       "  }\n",
       "\n",
       "  @keyframes spin {\n",
       "    0% {\n",
       "      border-color: transparent;\n",
       "      border-bottom-color: var(--fill-color);\n",
       "      border-left-color: var(--fill-color);\n",
       "    }\n",
       "    20% {\n",
       "      border-color: transparent;\n",
       "      border-left-color: var(--fill-color);\n",
       "      border-top-color: var(--fill-color);\n",
       "    }\n",
       "    30% {\n",
       "      border-color: transparent;\n",
       "      border-left-color: var(--fill-color);\n",
       "      border-top-color: var(--fill-color);\n",
       "      border-right-color: var(--fill-color);\n",
       "    }\n",
       "    40% {\n",
       "      border-color: transparent;\n",
       "      border-right-color: var(--fill-color);\n",
       "      border-top-color: var(--fill-color);\n",
       "    }\n",
       "    60% {\n",
       "      border-color: transparent;\n",
       "      border-right-color: var(--fill-color);\n",
       "    }\n",
       "    80% {\n",
       "      border-color: transparent;\n",
       "      border-right-color: var(--fill-color);\n",
       "      border-bottom-color: var(--fill-color);\n",
       "    }\n",
       "    90% {\n",
       "      border-color: transparent;\n",
       "      border-bottom-color: var(--fill-color);\n",
       "    }\n",
       "  }\n",
       "</style>\n",
       "\n",
       "  <script>\n",
       "    async function quickchart(key) {\n",
       "      const quickchartButtonEl =\n",
       "        document.querySelector('#' + key + ' button');\n",
       "      quickchartButtonEl.disabled = true;  // To prevent multiple clicks.\n",
       "      quickchartButtonEl.classList.add('colab-df-spinner');\n",
       "      try {\n",
       "        const charts = await google.colab.kernel.invokeFunction(\n",
       "            'suggestCharts', [key], {});\n",
       "      } catch (error) {\n",
       "        console.error('Error during call to suggestCharts:', error);\n",
       "      }\n",
       "      quickchartButtonEl.classList.remove('colab-df-spinner');\n",
       "      quickchartButtonEl.classList.add('colab-df-quickchart-complete');\n",
       "    }\n",
       "    (() => {\n",
       "      let quickchartButtonEl =\n",
       "        document.querySelector('#df-d34293f1-cddc-4831-952c-a8446cd6fd23 button');\n",
       "      quickchartButtonEl.style.display =\n",
       "        google.colab.kernel.accessAllowed ? 'block' : 'none';\n",
       "    })();\n",
       "  </script>\n",
       "</div>\n",
       "\n",
       "    </div>\n",
       "  </div>\n"
      ],
      "text/plain": [
       "                                           Sentences         Aspect  Polarity\n",
       "0  It might be the best sit down food I've had in...           food  positive\n",
       "1  It might be the best sit down food I've had in...          place   neutral\n",
       "2  Hostess was extremely accommodating when we ar...          staff  positive\n",
       "3  Hostess was extremely accommodating when we ar...  miscellaneous   neutral\n",
       "4  We were a couple of minutes late for our reser...  miscellaneous   neutral"
      ]
     },
     "execution_count": 7,
     "metadata": {},
     "output_type": "execute_result"
    }
   ],
   "source": [
    "train_data.head()"
   ]
  },
  {
   "cell_type": "code",
   "execution_count": null,
   "metadata": {
    "colab": {
     "base_uri": "https://localhost:8080/",
     "height": 451
    },
    "id": "JOY_dgEabSjM",
    "outputId": "e30895fa-134c-4a45-e1fe-cd4ca9df97c2"
   },
   "outputs": [
    {
     "data": {
      "image/png": "[encoded data removed]",
      "text/plain": [
       "<Figure size 640x480 with 1 Axes>"
      ]
     },
     "metadata": {},
     "output_type": "display_data"
    }
   ],
   "source": [
    "from matplotlib import pyplot as plt\n",
    "import seaborn as sns\n",
    "train_data.groupby('Polarity').size().plot(kind='barh', color=sns.palettes.mpl_palette('Dark2'))\n",
    "plt.gca().spines[['top', 'right',]].set_visible(False)"
   ]
  },
  {
   "cell_type": "code",
   "execution_count": null,
   "metadata": {
    "colab": {
     "base_uri": "https://localhost:8080/",
     "height": 451
    },
    "id": "7jz_ZrbPbOS1",
    "outputId": "855e5c4c-20a2-45a3-c3fb-50db4ee3c3d7"
   },
   "outputs": [
    {
     "data": {
      "image/png": "[encoded data removed]",
      "text/plain": [
       "<Figure size 640x480 with 1 Axes>"
      ]
     },
     "metadata": {},
     "output_type": "display_data"
    }
   ],
   "source": [
    "train_data.groupby('Aspect').size().plot(kind='barh', color=sns.palettes.mpl_palette('Dark2'))\n",
    "plt.gca().spines[['top', 'right',]].set_visible(False)"
   ]
  },
  {
   "cell_type": "markdown",
   "metadata": {
    "id": "aDJdif1igMES"
   },
   "source": [
    "### Data Preparation"
   ]
  },
  {
   "cell_type": "code",
   "execution_count": null,
   "metadata": {
    "colab": {
     "base_uri": "https://localhost:8080/"
    },
    "id": "5aA0WWnO8jaY",
    "outputId": "8d05674e-8f23-4fb8-fa1e-ad42480807e7"
   },
   "outputs": [
    {
     "name": "stdout",
     "output_type": "stream",
     "text": [
      "Requirement already satisfied: nltk in /usr/local/lib/python3.10/dist-packages (3.8.1)\n",
      "Requirement already satisfied: click in /usr/local/lib/python3.10/dist-packages (from nltk) (8.1.7)\n",
      "Requirement already satisfied: joblib in /usr/local/lib/python3.10/dist-packages (from nltk) (1.4.2)\n",
      "Requirement already satisfied: regex>=2021.8.3 in /usr/local/lib/python3.10/dist-packages (from nltk) (2023.12.25)\n",
      "Requirement already satisfied: tqdm in /usr/local/lib/python3.10/dist-packages (from nltk) (4.66.4)\n",
      "/usr/lib/python3.10/runpy.py:126: RuntimeWarning: 'nltk.downloader' found in sys.modules after import of package 'nltk', but prior to execution of 'nltk.downloader'; this may result in unpredictable behaviour\n",
      "  warn(RuntimeWarning(msg))\n",
      "[nltk_data] Downloading package punkt to /root/nltk_data...\n",
      "[nltk_data]   Package punkt is already up-to-date!\n",
      "/usr/lib/python3.10/runpy.py:126: RuntimeWarning: 'nltk.downloader' found in sys.modules after import of package 'nltk', but prior to execution of 'nltk.downloader'; this may result in unpredictable behaviour\n",
      "  warn(RuntimeWarning(msg))\n",
      "[nltk_data] Downloading package stopwords to /root/nltk_data...\n",
      "[nltk_data]   Package stopwords is already up-to-date!\n",
      "/usr/lib/python3.10/runpy.py:126: RuntimeWarning: 'nltk.downloader' found in sys.modules after import of package 'nltk', but prior to execution of 'nltk.downloader'; this may result in unpredictable behaviour\n",
      "  warn(RuntimeWarning(msg))\n",
      "[nltk_data] Downloading package wordnet to /root/nltk_data...\n",
      "[nltk_data]   Package wordnet is already up-to-date!\n"
     ]
    }
   ],
   "source": [
    "!pip install nltk\n",
    "!python -m nltk.downloader punkt\n",
    "!python -m nltk.downloader stopwords\n",
    "!python -m nltk.downloader wordnet"
   ]
  },
  {
   "cell_type": "code",
   "execution_count": null,
   "metadata": {
    "id": "7pQKoty-30Oc"
   },
   "outputs": [],
   "source": [
    "import nltk\n",
    "import re\n",
    "from nltk.corpus import stopwords\n",
    "from nltk.tokenize import word_tokenize, sent_tokenize\n",
    "from nltk.stem import WordNetLemmatizer\n",
    "\n",
    "import torch\n",
    "import torch.nn as nn\n",
    "import torch.optim as optim\n",
    "import torch.nn.functional as F"
   ]
  },
  {
   "cell_type": "code",
   "execution_count": null,
   "metadata": {
    "id": "9rxahzXabUJJ"
   },
   "outputs": [],
   "source": [
    "def preprocess(data):\n",
    "  sww = stopwords.words()\n",
    "  lemmatizer = WordNetLemmatizer()\n",
    "  for i in range(len(data)):\n",
    "    data[i][0] = re.sub(r'[^\\w\\s]',' ',data[i][0]) # remove punctuations and replacing with space\n",
    "    data[i][0] = word_tokenize(data[i][0]) # Word Tokenization\n",
    "    data[i][0] = [t.lower() for t in data[i][0]] # changing to lowercase\n",
    "    data[i][0] = [w for w in data[i][0] if not w in sww] # remove stopwords\n",
    "    data[i][0] = [lemmatizer.lemmatize(w) for w in data[i][0]] # Lemmatization\n",
    "  return data"
   ]
  },
  {
   "cell_type": "code",
   "execution_count": null,
   "metadata": {
    "id": "7_ggQL6hcxqb"
   },
   "outputs": [],
   "source": [
    "def preprocess_sww(data):\n",
    "  #sww = stopwords.words()\n",
    "  lemmatizer = WordNetLemmatizer()\n",
    "  for i in range(len(data)):\n",
    "    data[i][0] = re.sub(r'[^\\w\\s]',' ',data[i][0]) # remove punctuations and replacing with space\n",
    "    data[i][0] = word_tokenize(data[i][0]) # Word Tokenization\n",
    "    data[i][0] = [t.lower() for t in data[i][0]] # changing to lowercase\n",
    "    #data[i][0] = [w for w in data[i][0] if not w in sww] # remove stopwords\n",
    "    data[i][0] = [lemmatizer.lemmatize(w) for w in data[i][0]] # Lemmatization\n",
    "  return data"
   ]
  },
  {
   "cell_type": "code",
   "execution_count": null,
   "metadata": {
    "id": "NgVVnk0C9R1l"
   },
   "outputs": [],
   "source": [
    "def preprocess_c_sww(data):\n",
    "    # If custom_stopwords is not provided, use the default stopwords\n",
    "    sww=stopwords.words()\n",
    "    custom_stopwords = ['not', 'no', 'never', 'should','shouldnt', 'would', 'wouldnt', 'wont', 'isnt', 'hadnt', 'again', 'bc',\n",
    "                    'hasnt', 'havent', 'wasnt', 'werent']\n",
    "\n",
    "    lemmatizer = WordNetLemmatizer()\n",
    "\n",
    "    # Preprocess each data point\n",
    "    for i in range(len(data)):\n",
    "        # Remove punctuations and replace them with space\n",
    "        data[i][0] = re.sub(r'[^\\w\\s]', ' ', data[i][0])\n",
    "        # Tokenize the sentence\n",
    "        data[i][0] = word_tokenize(data[i][0])\n",
    "        # Convert words to lowercase\n",
    "        data[i][0] = [t.lower() for t in data[i][0]]\n",
    "        # Remove stopwords except for custom stopwords\n",
    "        data[i][0] = [w for w in data[i][0] if w in custom_stopwords or w not in stopwords.words()]\n",
    "        # Lemmatization\n",
    "        data[i][0] = [lemmatizer.lemmatize(w) for w in data[i][0]]\n",
    "\n",
    "    return data\n"
   ]
  },
  {
   "cell_type": "code",
   "execution_count": null,
   "metadata": {
    "id": "fqN_i3jhbmit"
   },
   "outputs": [],
   "source": [
    "corpus_np_cp=np.copy(corpus_np)\n",
    "test_corpus_np_cp=np.copy(test_corpus_np)\n",
    "val_corpus_np_cp=np.copy(val_corpus_np)\n",
    "\n",
    "train_corpus = preprocess(corpus_np_cp) # Preprocessing train corpus\n",
    "test_corpus = preprocess(test_corpus_np_cp) # Preprocessing test corpus\n",
    "val_corpus = preprocess(val_corpus_np_cp) # Preprocessing validation corpus"
   ]
  },
  {
   "cell_type": "code",
   "execution_count": null,
   "metadata": {
    "id": "OLXXpkUVc6eQ"
   },
   "outputs": [],
   "source": [
    "corpus_np_cp_1=np.copy(corpus_np)\n",
    "test_corpus_np_1=np.copy(test_corpus_np)\n",
    "val_corpus_np_1=np.copy(val_corpus_np)\n",
    "\n",
    "train_corpus_sww = preprocess_sww(corpus_np_cp_1) # Preprocessing train corpus without removing Stopwords\n",
    "test_corpus_sww = preprocess_sww(test_corpus_np_1) # Preprocessing test corpus without removing Stopwords\n",
    "val_corpus_sww = preprocess_sww(val_corpus_np_1) # Preprocessing validation corpus without removing Stopwords"
   ]
  },
  {
   "cell_type": "code",
   "execution_count": null,
   "metadata": {
    "id": "bA8FfDY-Ag3a"
   },
   "outputs": [],
   "source": [
    "train_corpus_c_sww = preprocess_c_sww(corpus_np) # Preprocessing train corpus removing custom Stopwords\n",
    "test_corpus_c_sww = preprocess_c_sww(test_corpus_np) # Preprocessing test corpus removing custom Stopwords\n",
    "val_corpus_c_sww = preprocess_c_sww(val_corpus_np) # Preprocessing validation corpus removing custom Stopwords"
   ]
  },
  {
   "cell_type": "code",
   "execution_count": 65,
   "metadata": {
    "colab": {
     "base_uri": "https://localhost:8080/"
    },
    "id": "O0yNUbzJgsZH",
    "outputId": "3e64b8bf-ed8b-4605-fc78-78527057ab62"
   },
   "outputs": [
    {
     "name": "stdout",
     "output_type": "stream",
     "text": [
      "Maximum Length: 41\n",
      "Position: 4042\n"
     ]
    }
   ],
   "source": [
    "max_length, position = max((len(r[0]), i) for i, r in enumerate(train_corpus_c_sww))\n",
    "\n",
    "print(\"Maximum Length:\", max_length)\n",
    "print(\"Position:\", position)"
   ]
  },
  {
   "cell_type": "markdown",
   "metadata": {
    "id": "D_XIKwfOFslH"
   },
   "source": [
    "### Using Glove-wiki-50"
   ]
  },
  {
   "cell_type": "code",
   "execution_count": null,
   "metadata": {
    "id": "-StZW6nlF05u"
   },
   "outputs": [],
   "source": [
    "import gensim.downloader as api\n",
    "\n",
    "word_vectors = api.load(\"glove-wiki-gigaword-50\") # Using pre-trained word embedding"
   ]
  },
  {
   "cell_type": "markdown",
   "metadata": {
    "id": "1Vt59roP8jtc"
   },
   "source": [
    "# 2. Model Implementation\n"
   ]
  },
  {
   "cell_type": "markdown",
   "metadata": {
    "id": "qTEeuAvV7Mst"
   },
   "source": [
    "## Bi-LSTM Varient-1"
   ]
  },
  {
   "cell_type": "markdown",
   "metadata": {
    "id": "TVtsLLlMcL75"
   },
   "source": [
    "### Batch Creation Varient-1"
   ]
  },
  {
   "cell_type": "code",
   "execution_count": null,
   "metadata": {
    "id": "Cynd_gBcZseF"
   },
   "outputs": [],
   "source": [
    "def model_1_batches(data, batch_size, max_len):\n",
    "    batches = []\n",
    "    polarity_map = {'positive': 0, 'neutral': 1, 'negative': 2}\n",
    "\n",
    "    for i in range(0, len(data), batch_size):\n",
    "        batch = []\n",
    "\n",
    "        for j in range(i, min(i + batch_size, len(data))):\n",
    "            sentence = data[j][0]\n",
    "            aspect = data[j][1]\n",
    "            polarity = data[j][2]\n",
    "            embedding_list = []\n",
    "            for word in sentence: # Check if word exist in pre-trained word embedding else appending zero vector\n",
    "                if str(word) in word_vectors:\n",
    "                    embedding_list.append(word_vectors[word])\n",
    "                else:\n",
    "                    embedding_list.append(np.zeros(50))\n",
    "\n",
    "            embedding_list.append(word_vectors[aspect])\n",
    "\n",
    "            for _ in range(max_len - len(embedding_list)):\n",
    "                embedding_list.append(np.zeros(50))\n",
    "\n",
    "            sentence_vectors = torch.tensor(embedding_list, dtype=torch.float32)\n",
    "            polarity = torch.tensor(polarity_map[polarity], dtype=torch.long)\n",
    "\n",
    "            batch.append((sentence_vectors, polarity))\n",
    "\n",
    "        batches.append(batch)\n",
    "\n",
    "    return batches"
   ]
  },
  {
   "cell_type": "markdown",
   "metadata": {
    "id": "eJAeK5tocQtc"
   },
   "source": [
    "### Bi-LSTM Model\n",
    "\n",
    "Input format for the model: \"Sentence\" + \"Aspect\" + \"Padding\""
   ]
  },
  {
   "cell_type": "code",
   "execution_count": 328,
   "metadata": {
    "id": "j92I3H1AbdWa"
   },
   "outputs": [],
   "source": [
    "# Define the BiLSTM model\n",
    "class BiLSTMClassifier(nn.Module):\n",
    "    def __init__(self, input_size, hidden_size, num_layers, num_classes):\n",
    "        super(BiLSTMClassifier, self).__init__()\n",
    "        self.hidden_size = hidden_size\n",
    "        self.num_layers = num_layers\n",
    "\n",
    "        self.lstm = nn.LSTM(input_size, hidden_size, num_layers,batch_first =True, bidirectional=True)\n",
    "        self.fc = nn.Linear(2*hidden_size,num_classes)\n",
    "\n",
    "\n",
    "    def forward(self, x):\n",
    "\n",
    "        x,(h_n,c_n) = self.lstm(x)\n",
    "\n",
    "        hidden_out = torch.cat((h_n[2,:,:],h_n[3,:,:]),1)\n",
    "        output = self.fc(hidden_out)\n",
    "        return(output)"
   ]
  },
  {
   "cell_type": "markdown",
   "metadata": {
    "id": "11cHTNKfY3Gw"
   },
   "source": [
    "### Training: without stopwords"
   ]
  },
  {
   "cell_type": "code",
   "execution_count": null,
   "metadata": {
    "colab": {
     "base_uri": "https://localhost:8080/"
    },
    "id": "QyozA8oiY0kp",
    "outputId": "96e1f322-bc40-4dc5-c674-5e1d24e5eea5"
   },
   "outputs": [
    {
     "name": "stderr",
     "output_type": "stream",
     "text": [
      "<ipython-input-18-8fe9946e8c6e>:24: UserWarning: Creating a tensor from a list of numpy.ndarrays is extremely slow. Please consider converting the list to a single numpy.ndarray with numpy.array() before converting to a tensor. (Triggered internally at ../torch/csrc/utils/tensor_new.cpp:275.)\n",
      "  sentence_vectors = torch.tensor(embedding_list, dtype=torch.float32)\n"
     ]
    },
    {
     "name": "stdout",
     "output_type": "stream",
     "text": [
      "Epoch [1/20], Loss: 29.5661\n",
      "Epoch [2/20], Loss: 26.9541\n",
      "Epoch [3/20], Loss: 24.6914\n",
      "Epoch [4/20], Loss: 23.9469\n",
      "Epoch [5/20], Loss: 23.3950\n",
      "Epoch [6/20], Loss: 22.8834\n",
      "Epoch [7/20], Loss: 22.4746\n",
      "Epoch [8/20], Loss: 22.0010\n",
      "Epoch [9/20], Loss: 21.6393\n",
      "Epoch [10/20], Loss: 21.2729\n",
      "Epoch [11/20], Loss: 20.9831\n",
      "Epoch [12/20], Loss: 20.5057\n",
      "Epoch [13/20], Loss: 20.1460\n",
      "Epoch [14/20], Loss: 19.3784\n",
      "Epoch [15/20], Loss: 18.5797\n",
      "Epoch [16/20], Loss: 18.0732\n",
      "Epoch [17/20], Loss: 17.6600\n",
      "Epoch [18/20], Loss: 17.6032\n",
      "Epoch [19/20], Loss: 17.2177\n",
      "Epoch [20/20], Loss: 17.3905\n",
      "Train Accuracy: 74.10%\n"
     ]
    }
   ],
   "source": [
    "# Set device\n",
    "device = torch.device('cuda' if torch.cuda.is_available() else 'cpu')\n",
    "\n",
    "# Hyperparameters\n",
    "input_size = 50\n",
    "hidden_size = 128\n",
    "num_layers = 2\n",
    "num_classes = 3\n",
    "batch_size = 256\n",
    "num_epochs = 20\n",
    "learning_rate = 0.001\n",
    "\n",
    "# Batch Creation\n",
    "max_len = 50\n",
    "batches = model_1_batches(train_corpus, batch_size, max_len)\n",
    "\n",
    "model_1 = BiLSTMClassifier(input_size, hidden_size, num_layers=2, num_classes=3).to(device)\n",
    "\n",
    "# Loss and optimizer\n",
    "criterion = nn.CrossEntropyLoss()\n",
    "optimizer = optim.Adam(model_1.parameters(), lr=learning_rate)\n",
    "\n",
    "# Train the model\n",
    "for epoch in range(num_epochs):\n",
    "    train_loss = 0\n",
    "    for batch in batches:\n",
    "        sentence_vectors, polarities = zip(*batch)\n",
    "        sentence_vectors = torch.stack(sentence_vectors).to(device)\n",
    "        polarities = torch.stack(polarities).to(device)\n",
    "        model_1.train()\n",
    "        optimizer.zero_grad()\n",
    "        outputs = model_1(sentence_vectors)\n",
    "        loss = criterion(outputs, polarities)\n",
    "\n",
    "        loss.backward()\n",
    "        optimizer.step()\n",
    "\n",
    "        train_loss += loss.item()\n",
    "    print(f'Epoch [{epoch+1}/{num_epochs}], Loss: {train_loss:.4f}')\n",
    "\n",
    "model_1.eval()\n",
    "with torch.no_grad():\n",
    "  correct=0\n",
    "  total=0\n",
    "  for batch in batches:\n",
    "    sentence_vectors, polarities = zip(*batch)\n",
    "    sentence_vectors = torch.stack(sentence_vectors).to(device)\n",
    "    polarities = torch.stack(polarities).to(device)\n",
    "\n",
    "    outputs = model_1(sentence_vectors)\n",
    "    _, predicted = torch.max(outputs.data, 1)\n",
    "    total += polarities.size(0)\n",
    "    correct += (predicted == polarities).sum().item()\n",
    "  accuracy = 100 * correct / total\n",
    "  print(f'Train Accuracy: {accuracy:.2f}%')"
   ]
  },
  {
   "cell_type": "markdown",
   "metadata": {
    "id": "LV22-u2ucXQa"
   },
   "source": [
    "Accuracy Checking"
   ]
  },
  {
   "cell_type": "code",
   "execution_count": null,
   "metadata": {
    "colab": {
     "base_uri": "https://localhost:8080/"
    },
    "id": "rSgv1CGWssqJ",
    "outputId": "dcb18c43-d748-48e4-db3c-1152bad5fca1"
   },
   "outputs": [
    {
     "name": "stdout",
     "output_type": "stream",
     "text": [
      "Test Accuracy: 61.15%\n"
     ]
    }
   ],
   "source": [
    "model_1.eval()\n",
    "with torch.no_grad():\n",
    "  correct=0\n",
    "  total=0\n",
    "  batches = model_1_batches(test_corpus, batch_size, max_len)\n",
    "  for batch in batches:\n",
    "    sentence_vectors, polarities = zip(*batch)\n",
    "    sentence_vectors = torch.stack(sentence_vectors).to(device)\n",
    "    polarities = torch.stack(polarities).to(device)\n",
    "\n",
    "    outputs = model_1(sentence_vectors)\n",
    "    _, predicted = torch.max(outputs.data, 1)\n",
    "    total += polarities.size(0)\n",
    "    correct += (predicted == polarities).sum().item()\n",
    "  accuracy = 100 * correct / total\n",
    "  print(f'Test Accuracy: {accuracy:.2f}%')"
   ]
  },
  {
   "cell_type": "markdown",
   "metadata": {
    "id": "KmbtMghHiUhS"
   },
   "source": [
    "### Training: with stopwords"
   ]
  },
  {
   "cell_type": "code",
   "execution_count": 329,
   "metadata": {
    "colab": {
     "base_uri": "https://localhost:8080/"
    },
    "id": "Z5E4gWehiZil",
    "outputId": "d8d5132f-2bdc-436c-c6c2-8f16d09b1225"
   },
   "outputs": [
    {
     "name": "stdout",
     "output_type": "stream",
     "text": [
      "Epoch [1/20], Loss: 29.7575\n",
      "Epoch [2/20], Loss: 28.8167\n",
      "Epoch [3/20], Loss: 27.6265\n",
      "Epoch [4/20], Loss: 25.6615\n",
      "Epoch [5/20], Loss: 24.8092\n",
      "Epoch [6/20], Loss: 25.6300\n",
      "Epoch [7/20], Loss: 24.4182\n",
      "Epoch [8/20], Loss: 24.0011\n",
      "Epoch [9/20], Loss: 23.6244\n",
      "Epoch [10/20], Loss: 23.5575\n",
      "Epoch [11/20], Loss: 23.4395\n",
      "Epoch [12/20], Loss: 23.0348\n",
      "Epoch [13/20], Loss: 22.7402\n",
      "Epoch [14/20], Loss: 22.4790\n",
      "Epoch [15/20], Loss: 22.3577\n",
      "Epoch [16/20], Loss: 22.2226\n",
      "Epoch [17/20], Loss: 21.7619\n",
      "Epoch [18/20], Loss: 21.6676\n",
      "Epoch [19/20], Loss: 21.3935\n",
      "Epoch [20/20], Loss: 21.1553\n",
      "Train Accuracy: 65.35%\n"
     ]
    }
   ],
   "source": [
    "# Set device\n",
    "device = torch.device('cuda' if torch.cuda.is_available() else 'cpu')\n",
    "\n",
    "# Hyperparameters\n",
    "input_size = 50\n",
    "hidden_size = 128\n",
    "num_layers = 2\n",
    "num_classes = 3\n",
    "batch_size = 256\n",
    "num_epochs = 20\n",
    "learning_rate = 0.001\n",
    "\n",
    "# Batch Creation\n",
    "max_len = 70\n",
    "batches = model_1_batches(train_corpus_sww, batch_size, max_len)\n",
    "\n",
    "model_1_sww = BiLSTMClassifier(input_size, hidden_size, num_layers=2, num_classes=3).to(device)\n",
    "\n",
    "# Loss and optimizer\n",
    "criterion = nn.CrossEntropyLoss()\n",
    "optimizer = optim.Adam(model_1_sww.parameters(), lr=learning_rate)\n",
    "\n",
    "# Train the model\n",
    "for epoch in range(num_epochs):\n",
    "    train_loss = 0\n",
    "    for batch in batches:\n",
    "        sentence_vectors, polarities = zip(*batch)\n",
    "        sentence_vectors = torch.stack(sentence_vectors).to(device)\n",
    "        polarities = torch.stack(polarities).to(device)\n",
    "        model_1_sww.train()\n",
    "        optimizer.zero_grad()\n",
    "\n",
    "        outputs = model_1_sww(sentence_vectors)\n",
    "        loss = criterion(outputs, polarities)\n",
    "\n",
    "        loss.backward()\n",
    "        optimizer.step()\n",
    "\n",
    "        train_loss += loss.item()\n",
    "    print(f'Epoch [{epoch+1}/{num_epochs}], Loss: {train_loss:.4f}')\n",
    "\n",
    "model_1_sww.eval()\n",
    "with torch.no_grad():\n",
    "  correct=0\n",
    "  total=0\n",
    "  for batch in batches:\n",
    "    sentence_vectors, polarities = zip(*batch)\n",
    "    sentence_vectors = torch.stack(sentence_vectors).to(device)\n",
    "    polarities = torch.stack(polarities).to(device)\n",
    "\n",
    "    outputs = model_1_sww(sentence_vectors)\n",
    "    _, predicted = torch.max(outputs.data, 1)\n",
    "    total += polarities.size(0)\n",
    "    correct += (predicted == polarities).sum().item()\n",
    "  accuracy = 100 * correct / total\n",
    "  print(f'Train Accuracy: {accuracy:.2f}%')"
   ]
  },
  {
   "cell_type": "code",
   "execution_count": null,
   "metadata": {
    "colab": {
     "base_uri": "https://localhost:8080/"
    },
    "id": "heQmOJw1pfFG",
    "outputId": "beb9ac26-15a4-4afb-eadd-7243cc4dea7c"
   },
   "outputs": [
    {
     "name": "stdout",
     "output_type": "stream",
     "text": [
      "Test Accuracy: 62.49%\n"
     ]
    }
   ],
   "source": [
    "model_1_sww.eval()\n",
    "with torch.no_grad():\n",
    "  correct=0\n",
    "  total=0\n",
    "  batches = model_1_batches(test_corpus_sww, batch_size, max_len)\n",
    "  for batch in batches:\n",
    "    sentence_vectors, polarities = zip(*batch)\n",
    "    sentence_vectors = torch.stack(sentence_vectors).to(device)\n",
    "    polarities = torch.stack(polarities).to(device)\n",
    "\n",
    "    outputs = model_1_sww(sentence_vectors)\n",
    "    _, predicted = torch.max(outputs.data, 1)\n",
    "    total += polarities.size(0)\n",
    "    correct += (predicted == polarities).sum().item()\n",
    "  accuracy = 100 * correct / total\n",
    "  print(f'Test Accuracy: {accuracy:.2f}%')"
   ]
  },
  {
   "cell_type": "markdown",
   "metadata": {
    "id": "XIo1O5kAtnlB"
   },
   "source": [
    "Polarit probabilities"
   ]
  },
  {
   "cell_type": "code",
   "execution_count": null,
   "metadata": {
    "id": "NIUqzAFLse1d"
   },
   "outputs": [],
   "source": [
    "model_1_sww.eval()\n",
    "\n",
    "with torch.no_grad():\n",
    "    probabilities = []\n",
    "    test_batches = model_1_batches(test_corpus_sww, batch_size, max_len)\n",
    "\n",
    "    for batch in test_batches:\n",
    "        inputs, labels = zip(*batch)\n",
    "        inputs = torch.stack(inputs).to(device)\n",
    "        labels = torch.stack(labels).to(device)\n",
    "\n",
    "        outputs = model_1_sww(inputs)\n",
    "        probs = torch.softmax(outputs, dim=1)\n",
    "        probabilities.extend(probs.cpu().numpy())"
   ]
  },
  {
   "cell_type": "code",
   "execution_count": null,
   "metadata": {
    "colab": {
     "base_uri": "https://localhost:8080/"
    },
    "id": "MaXxL-3dtH-V",
    "outputId": "133270df-5fa4-4f01-d066-b911638446d0"
   },
   "outputs": [
    {
     "data": {
      "text/plain": [
       "array([0.03656283, 0.80860645, 0.15483068], dtype=float32)"
      ]
     },
     "execution_count": 93,
     "metadata": {},
     "output_type": "execute_result"
    }
   ],
   "source": [
    "probabilities[0]"
   ]
  },
  {
   "cell_type": "markdown",
   "metadata": {
    "id": "EhvFFlGKCve-"
   },
   "source": [
    "### Training: with custom stopwords"
   ]
  },
  {
   "cell_type": "code",
   "execution_count": null,
   "metadata": {
    "colab": {
     "base_uri": "https://localhost:8080/"
    },
    "id": "RNs4WWfg_1FX",
    "outputId": "0009aa34-6d3e-4afb-ab9d-62de02d671b1"
   },
   "outputs": [
    {
     "name": "stdout",
     "output_type": "stream",
     "text": [
      "Epoch [1/20], Loss: 29.3798\n",
      "Epoch [2/20], Loss: 26.4379\n",
      "Epoch [3/20], Loss: 24.7232\n",
      "Epoch [4/20], Loss: 23.7791\n",
      "Epoch [5/20], Loss: 23.1937\n",
      "Epoch [6/20], Loss: 22.7127\n",
      "Epoch [7/20], Loss: 22.3200\n",
      "Epoch [8/20], Loss: 21.9679\n",
      "Epoch [9/20], Loss: 21.5947\n",
      "Epoch [10/20], Loss: 21.1733\n",
      "Epoch [11/20], Loss: 20.7551\n",
      "Epoch [12/20], Loss: 20.4969\n",
      "Epoch [13/20], Loss: 20.1070\n",
      "Epoch [14/20], Loss: 19.7192\n",
      "Epoch [15/20], Loss: 19.3583\n",
      "Epoch [16/20], Loss: 19.1352\n",
      "Epoch [17/20], Loss: 18.6326\n",
      "Epoch [18/20], Loss: 17.9727\n",
      "Epoch [19/20], Loss: 17.4438\n",
      "Epoch [20/20], Loss: 17.3132\n",
      "Train Accuracy: 67.83%\n"
     ]
    }
   ],
   "source": [
    "# Set device\n",
    "device = torch.device('cuda' if torch.cuda.is_available() else 'cpu')\n",
    "\n",
    "# Hyperparameters\n",
    "input_size = 50\n",
    "hidden_size = 128\n",
    "num_layers = 2\n",
    "num_classes = 3\n",
    "batch_size = 256\n",
    "num_epochs = 20\n",
    "learning_rate = 0.001\n",
    "\n",
    "# Batch Creation\n",
    "max_len = 70\n",
    "batches = model_1_batches(train_corpus_c_sww, batch_size, max_len)\n",
    "\n",
    "model_1_c_sww = BiLSTMClassifier(input_size, hidden_size, num_layers=2, num_classes=3).to(device)\n",
    "\n",
    "# Loss and optimizer\n",
    "criterion = nn.CrossEntropyLoss()\n",
    "optimizer = optim.Adam(model_1_c_sww.parameters(), lr=learning_rate)\n",
    "\n",
    "# Train the model\n",
    "for epoch in range(num_epochs):\n",
    "    train_loss = 0\n",
    "    for batch in batches:\n",
    "        sentence_vectors, polarities = zip(*batch)\n",
    "        sentence_vectors = torch.stack(sentence_vectors).to(device)\n",
    "        polarities = torch.stack(polarities).to(device)\n",
    "        model_1_c_sww.train()\n",
    "        optimizer.zero_grad()\n",
    "        outputs = model_1_c_sww(sentence_vectors)\n",
    "        loss = criterion(outputs, polarities)\n",
    "\n",
    "        loss.backward()\n",
    "        optimizer.step()\n",
    "\n",
    "        train_loss += loss.item()\n",
    "    print(f'Epoch [{epoch+1}/{num_epochs}], Loss: {train_loss:.4f}')\n",
    "\n",
    "model_1_c_sww.eval()\n",
    "with torch.no_grad():\n",
    "  correct=0\n",
    "  total=0\n",
    "  for batch in batches:\n",
    "    sentence_vectors, polarities = zip(*batch)\n",
    "    sentence_vectors = torch.stack(sentence_vectors).to(device)\n",
    "    polarities = torch.stack(polarities).to(device)\n",
    "\n",
    "    outputs = model_1_c_sww(sentence_vectors)\n",
    "    _, predicted = torch.max(outputs.data, 1)\n",
    "    total += polarities.size(0)\n",
    "    correct += (predicted == polarities).sum().item()\n",
    "  accuracy = 100 * correct / total\n",
    "  print(f'Train Accuracy: {accuracy:.2f}%')"
   ]
  },
  {
   "cell_type": "markdown",
   "metadata": {
    "id": "qTXjDNxl7C4m"
   },
   "source": [
    "## Bi-LSTM Varient-2"
   ]
  },
  {
   "cell_type": "markdown",
   "metadata": {
    "id": "CdlOIyWkkf2W"
   },
   "source": [
    "### Batch Creation for Varient-2"
   ]
  },
  {
   "cell_type": "code",
   "execution_count": 236,
   "metadata": {
    "id": "_XwkN_BFd0uP"
   },
   "outputs": [],
   "source": [
    "def model_2_batches(data, batch_size, max_len):\n",
    "    batches = []\n",
    "    polarity_map = {'positive': 0, 'neutral': 1, 'negative': 2}\n",
    "\n",
    "    for i in range(0, len(data), batch_size):\n",
    "        batch = []\n",
    "\n",
    "        for j in range(i, min(i + batch_size, len(data))):\n",
    "            sentence = data[j][0]\n",
    "            aspect = data[j][1]\n",
    "            polarity = data[j][2]\n",
    "            embedding_list = []\n",
    "            for word in sentence:\n",
    "                if str(word) in word_vectors:\n",
    "                    embedding_list.append(word_vectors[word])\n",
    "                else:\n",
    "                    embedding_list.append(np.zeros(50))\n",
    "\n",
    "            for _ in range(max_len - len(embedding_list)):\n",
    "                embedding_list.append(np.zeros(50))\n",
    "\n",
    "            sentence_vectors = torch.tensor(embedding_list, dtype=torch.float32)\n",
    "            aspect_vector = torch.tensor(word_vectors[aspect], dtype=torch.float32)\n",
    "            polarity = torch.tensor(polarity_map[polarity], dtype=torch.long)\n",
    "\n",
    "            batch.append((sentence_vectors, aspect_vector, polarity))\n",
    "\n",
    "        batches.append(batch)\n",
    "\n",
    "    return batches"
   ]
  },
  {
   "cell_type": "markdown",
   "metadata": {
    "id": "E-6zMJHBmRzh"
   },
   "source": [
    "### Bi-LSTM Model\n",
    "\n",
    "Input format for the model: \"Sentence\".\n",
    "\n",
    "Adding \"Aspect\" to the hidden layer."
   ]
  },
  {
   "cell_type": "code",
   "execution_count": null,
   "metadata": {
    "id": "ofKSWnE0mQ6y"
   },
   "outputs": [],
   "source": [
    "# Define the BiLSTM model\n",
    "class BiLSTMClassifier(nn.Module):\n",
    "    def __init__(self, input_size, hidden_size, num_layers, num_classes):\n",
    "        super(BiLSTMClassifier, self).__init__()\n",
    "        self.hidden_size = hidden_size\n",
    "        self.num_layers = num_layers\n",
    "        self.lstm = nn.LSTM(input_size, hidden_size, num_layers, batch_first=True, bidirectional=True)\n",
    "        self.fc = nn.Linear(hidden_size * 2 + input_size, num_classes)\n",
    "\n",
    "    def forward(self, sentence, aspect):\n",
    "        _, (hidden, _) = self.lstm(sentence)\n",
    "        hidden = torch.cat((hidden[-2, :, :], hidden[-1, :, :]), dim=1)\n",
    "        output = torch.cat((hidden, aspect), dim=1)\n",
    "        output = self.fc(output)\n",
    "        return output"
   ]
  },
  {
   "cell_type": "markdown",
   "metadata": {
    "id": "rRYzC_pFZq6v"
   },
   "source": [
    "### Training: without stopwords"
   ]
  },
  {
   "cell_type": "code",
   "execution_count": null,
   "metadata": {
    "colab": {
     "base_uri": "https://localhost:8080/"
    },
    "id": "pYmLR4p7Zpzy",
    "outputId": "edf8b0ef-cec5-42cb-ffc4-914837435d45"
   },
   "outputs": [
    {
     "name": "stdout",
     "output_type": "stream",
     "text": [
      "Epoch [1/20], Loss: 28.0405\n",
      "Epoch [2/20], Loss: 25.1489\n",
      "Epoch [3/20], Loss: 23.9537\n",
      "Epoch [4/20], Loss: 23.4113\n",
      "Epoch [5/20], Loss: 23.0241\n",
      "Epoch [6/20], Loss: 22.6788\n",
      "Epoch [7/20], Loss: 22.3587\n",
      "Epoch [8/20], Loss: 22.0469\n",
      "Epoch [9/20], Loss: 21.7164\n",
      "Epoch [10/20], Loss: 21.4914\n",
      "Epoch [11/20], Loss: 21.3229\n",
      "Epoch [12/20], Loss: 21.2114\n",
      "Epoch [13/20], Loss: 20.8062\n",
      "Epoch [14/20], Loss: 20.7288\n",
      "Epoch [15/20], Loss: 20.4577\n",
      "Epoch [16/20], Loss: 20.5390\n",
      "Epoch [17/20], Loss: 20.2530\n",
      "Epoch [18/20], Loss: 20.0805\n",
      "Epoch [19/20], Loss: 20.0419\n",
      "Epoch [20/20], Loss: 19.7239\n",
      "Train Accuracy: 69.08\n"
     ]
    }
   ],
   "source": [
    "# Set device\n",
    "device = torch.device('cuda' if torch.cuda.is_available() else 'cpu')\n",
    "\n",
    "# Hyperparameters\n",
    "input_size = 50\n",
    "hidden_size = 128\n",
    "num_layers = 2\n",
    "num_classes = 3\n",
    "batch_size = 256\n",
    "num_epochs = 20\n",
    "learning_rate = 0.001\n",
    "\n",
    "\n",
    "# Create batches\n",
    "max_len = 50\n",
    "batches = model_2_batches(train_corpus,batch_size, max_len)\n",
    "\n",
    "# Initialize the model\n",
    "model_2 = BiLSTMClassifier(input_size, hidden_size, num_layers, num_classes).to(device)\n",
    "\n",
    "# Loss and optimizer\n",
    "criterion = nn.CrossEntropyLoss()\n",
    "optimizer = optim.Adam(model_2.parameters(), lr=learning_rate)\n",
    "\n",
    "# Train the model\n",
    "for epoch in range(num_epochs):\n",
    "    train_loss = 0\n",
    "    for batch in batches:\n",
    "        sentence_vectors, aspect_vectors, polarities = zip(*batch)\n",
    "        sentence_vectors = torch.stack(sentence_vectors).to(device)\n",
    "        aspect_vectors = torch.stack(aspect_vectors).to(device)\n",
    "        polarities = torch.stack(polarities).to(device)\n",
    "\n",
    "        model_2.train()\n",
    "        optimizer.zero_grad()\n",
    "\n",
    "        outputs = model_2(sentence_vectors, aspect_vectors)\n",
    "        loss = criterion(outputs, polarities)\n",
    "\n",
    "\n",
    "        loss.backward()\n",
    "        optimizer.step()\n",
    "\n",
    "        train_loss += loss.item()\n",
    "\n",
    "    print(f'Epoch [{epoch+1}/{num_epochs}], Loss: {train_loss:.4f}')\n",
    "\n",
    "# Evaluate the model on the test set after training\n",
    "model_2.eval()\n",
    "with torch.no_grad():\n",
    "    correct = 0\n",
    "    total = 0\n",
    "    for batch in batches:\n",
    "        sentence_vectors, aspect_vectors, polarities = zip(*batch)\n",
    "        sentence_vectors = torch.stack(sentence_vectors).to(device)\n",
    "        aspect_vectors = torch.stack(aspect_vectors).to(device)\n",
    "        polarities = torch.stack(polarities).to(device)\n",
    "\n",
    "        outputs = model_2(sentence_vectors, aspect_vectors)\n",
    "        _, predicted = torch.max(outputs.data, 1)\n",
    "        total += polarities.size(0)\n",
    "        correct += (predicted == polarities).sum().item()\n",
    "\n",
    "    accuracy = 100 * correct / total\n",
    "    print(f'Train Accuracy: {accuracy:.2f}')"
   ]
  },
  {
   "cell_type": "code",
   "execution_count": null,
   "metadata": {
    "colab": {
     "base_uri": "https://localhost:8080/"
    },
    "id": "zCR-Z7CeqwQv",
    "outputId": "9efcb488-3e60-4c99-feb5-1b83f32a1a80"
   },
   "outputs": [
    {
     "name": "stdout",
     "output_type": "stream",
     "text": [
      "Test Accuracy: 63.60\n"
     ]
    }
   ],
   "source": [
    "# Evaluate the model on the test set after training\n",
    "model_2.eval()\n",
    "with torch.no_grad():\n",
    "    correct = 0\n",
    "    total = 0\n",
    "    batches = model_2_batches(test_corpus,batch_size, max_len)\n",
    "    for batch in batches:\n",
    "        sentence_vectors, aspect_vectors, polarities = zip(*batch)\n",
    "        sentence_vectors = torch.stack(sentence_vectors).to(device)\n",
    "        aspect_vectors = torch.stack(aspect_vectors).to(device)\n",
    "        polarities = torch.stack(polarities).to(device)\n",
    "\n",
    "        outputs = model_2(sentence_vectors, aspect_vectors)\n",
    "        _, predicted = torch.max(outputs.data, 1)\n",
    "        total += polarities.size(0)\n",
    "        correct += (predicted == polarities).sum().item()\n",
    "\n",
    "    accuracy = 100 * correct / total\n",
    "    print(f'Test Accuracy: {accuracy:.2f}')"
   ]
  },
  {
   "cell_type": "markdown",
   "metadata": {
    "id": "1SfZke1ap8E1"
   },
   "source": [
    "###Training: with stopwords"
   ]
  },
  {
   "cell_type": "code",
   "execution_count": null,
   "metadata": {
    "colab": {
     "base_uri": "https://localhost:8080/"
    },
    "id": "sjlk2e2rqF-3",
    "outputId": "acdbb642-ad8b-49d1-da1a-62d41ec66043"
   },
   "outputs": [
    {
     "name": "stdout",
     "output_type": "stream",
     "text": [
      "Epoch [1/20], Loss: 29.0724\n",
      "Epoch [2/20], Loss: 26.0974\n",
      "Epoch [3/20], Loss: 24.7151\n",
      "Epoch [4/20], Loss: 23.8732\n",
      "Epoch [5/20], Loss: 23.3199\n",
      "Epoch [6/20], Loss: 22.9947\n",
      "Epoch [7/20], Loss: 22.6603\n",
      "Epoch [8/20], Loss: 22.4492\n",
      "Epoch [9/20], Loss: 22.2086\n",
      "Epoch [10/20], Loss: 21.9903\n",
      "Epoch [11/20], Loss: 21.7906\n",
      "Epoch [12/20], Loss: 21.5921\n",
      "Epoch [13/20], Loss: 21.6121\n",
      "Epoch [14/20], Loss: 21.7550\n",
      "Epoch [15/20], Loss: 21.1712\n",
      "Epoch [16/20], Loss: 20.7924\n",
      "Epoch [17/20], Loss: 20.3167\n",
      "Epoch [18/20], Loss: 20.0311\n",
      "Epoch [19/20], Loss: 19.7812\n",
      "Epoch [20/20], Loss: 19.7956\n",
      "Train Accuracy: 68.27\n"
     ]
    }
   ],
   "source": [
    "# Set device\n",
    "device = torch.device('cuda' if torch.cuda.is_available() else 'cpu')\n",
    "\n",
    "# Hyperparameters\n",
    "input_size = 50\n",
    "hidden_size = 128\n",
    "num_layers = 2\n",
    "num_classes = 3\n",
    "batch_size = 256\n",
    "num_epochs = 20\n",
    "learning_rate = 0.001\n",
    "# dropout_rate=0.01\n",
    "\n",
    "# Create batches\n",
    "max_len = 70\n",
    "batches = model_2_batches(train_corpus_sww,batch_size, max_len)\n",
    "\n",
    "# Initialize the model\n",
    "model_2_sww = BiLSTMClassifier(input_size, hidden_size, num_layers, num_classes).to(device)\n",
    "\n",
    "# Loss and optimizer\n",
    "criterion = nn.CrossEntropyLoss()\n",
    "optimizer = optim.Adam(model_2_sww.parameters(), lr=learning_rate)\n",
    "\n",
    "# Train the model\n",
    "for epoch in range(num_epochs):\n",
    "    train_loss = 0\n",
    "    for batch in batches:\n",
    "        sentence_vectors, aspect_vectors, polarities = zip(*batch)\n",
    "        sentence_vectors = torch.stack(sentence_vectors).to(device)\n",
    "        aspect_vectors = torch.stack(aspect_vectors).to(device)\n",
    "        polarities = torch.stack(polarities).to(device)\n",
    "\n",
    "        model_2_sww.train()\n",
    "        optimizer.zero_grad()\n",
    "\n",
    "        outputs = model_2_sww(sentence_vectors, aspect_vectors)\n",
    "        loss = criterion(outputs, polarities)\n",
    "\n",
    "\n",
    "        loss.backward()\n",
    "        optimizer.step()\n",
    "\n",
    "        train_loss += loss.item()\n",
    "\n",
    "    print(f'Epoch [{epoch+1}/{num_epochs}], Loss: {train_loss:.4f}')\n",
    "\n",
    "# Evaluate the model on the test set after training\n",
    "model_2_sww.eval()\n",
    "with torch.no_grad():\n",
    "    correct = 0\n",
    "    total = 0\n",
    "    for batch in batches:\n",
    "        sentence_vectors, aspect_vectors, polarities = zip(*batch)\n",
    "        sentence_vectors = torch.stack(sentence_vectors).to(device)\n",
    "        aspect_vectors = torch.stack(aspect_vectors).to(device)\n",
    "        polarities = torch.stack(polarities).to(device)\n",
    "\n",
    "        outputs = model_2_sww(sentence_vectors, aspect_vectors)\n",
    "        _, predicted = torch.max(outputs.data, 1)\n",
    "        total += polarities.size(0)\n",
    "        correct += (predicted == polarities).sum().item()\n",
    "\n",
    "    accuracy = 100 * correct / total\n",
    "    print(f'Train Accuracy: {accuracy:.2f}')"
   ]
  },
  {
   "cell_type": "code",
   "execution_count": null,
   "metadata": {
    "colab": {
     "base_uri": "https://localhost:8080/"
    },
    "id": "xo0lY0xwqkVA",
    "outputId": "3b7ba5fa-edf6-48a2-c229-14e333796567"
   },
   "outputs": [
    {
     "name": "stdout",
     "output_type": "stream",
     "text": [
      "Test Accuracy: 64.59\n"
     ]
    }
   ],
   "source": [
    "# Evaluate the model on the test set after training\n",
    "model_2_sww.eval()\n",
    "with torch.no_grad():\n",
    "    correct = 0\n",
    "    total = 0\n",
    "    batches = model_2_batches(test_corpus_sww,batch_size, max_len)\n",
    "    for batch in batches:\n",
    "        sentence_vectors, aspect_vectors, polarities = zip(*batch)\n",
    "        sentence_vectors = torch.stack(sentence_vectors).to(device)\n",
    "        aspect_vectors = torch.stack(aspect_vectors).to(device)\n",
    "        polarities = torch.stack(polarities).to(device)\n",
    "\n",
    "        outputs = model_2_sww(sentence_vectors, aspect_vectors)\n",
    "        _, predicted = torch.max(outputs.data, 1)\n",
    "        total += polarities.size(0)\n",
    "        correct += (predicted == polarities).sum().item()\n",
    "\n",
    "    accuracy = 100 * correct / total\n",
    "    print(f'Test Accuracy: {accuracy:.2f}')"
   ]
  },
  {
   "cell_type": "markdown",
   "metadata": {
    "id": "9p7QNB-dGvug"
   },
   "source": [
    "### Training: with custom stopwords"
   ]
  },
  {
   "cell_type": "code",
   "execution_count": null,
   "metadata": {
    "colab": {
     "base_uri": "https://localhost:8080/"
    },
    "id": "FZXfqbV2G0nG",
    "outputId": "f7eb0c70-1407-4103-b0d9-191230d47672"
   },
   "outputs": [
    {
     "name": "stdout",
     "output_type": "stream",
     "text": [
      "Epoch [1/20], Loss: 28.2716\n",
      "Epoch [2/20], Loss: 25.1602\n",
      "Epoch [3/20], Loss: 23.8001\n",
      "Epoch [4/20], Loss: 23.2014\n",
      "Epoch [5/20], Loss: 22.8009\n",
      "Epoch [6/20], Loss: 22.4383\n",
      "Epoch [7/20], Loss: 22.1447\n",
      "Epoch [8/20], Loss: 21.8680\n",
      "Epoch [9/20], Loss: 21.5618\n",
      "Epoch [10/20], Loss: 21.2600\n",
      "Epoch [11/20], Loss: 21.1880\n",
      "Epoch [12/20], Loss: 21.2796\n",
      "Epoch [13/20], Loss: 20.9506\n",
      "Epoch [14/20], Loss: 20.5855\n",
      "Epoch [15/20], Loss: 20.3031\n",
      "Epoch [16/20], Loss: 20.2503\n",
      "Epoch [17/20], Loss: 20.2448\n",
      "Epoch [18/20], Loss: 19.6396\n",
      "Epoch [19/20], Loss: 19.0954\n",
      "Epoch [20/20], Loss: 18.4546\n",
      "Train Accuracy: 71.73\n"
     ]
    }
   ],
   "source": [
    "# Set device\n",
    "device = torch.device('cuda' if torch.cuda.is_available() else 'cpu')\n",
    "\n",
    "# Hyperparameters\n",
    "input_size = 50\n",
    "hidden_size = 128\n",
    "num_layers = 2\n",
    "num_classes = 3\n",
    "batch_size = 256\n",
    "num_epochs = 20\n",
    "learning_rate = 0.001\n",
    "\n",
    "# Create batches\n",
    "max_len = 70\n",
    "batches = model_2_batches(train_corpus_c_sww,batch_size, max_len)\n",
    "\n",
    "# Initialize the model\n",
    "model_2_c_sww = BiLSTMClassifier(input_size, hidden_size, num_layers, num_classes).to(device)\n",
    "\n",
    "# Loss and optimizer\n",
    "criterion = nn.CrossEntropyLoss()\n",
    "optimizer = optim.Adam(model_2_c_sww.parameters(), lr=learning_rate)\n",
    "\n",
    "# Train the model\n",
    "for epoch in range(num_epochs):\n",
    "    train_loss = 0\n",
    "    for batch in batches:\n",
    "        sentence_vectors, aspect_vectors, polarities = zip(*batch)\n",
    "        sentence_vectors = torch.stack(sentence_vectors).to(device)\n",
    "        aspect_vectors = torch.stack(aspect_vectors).to(device)\n",
    "        polarities = torch.stack(polarities).to(device)\n",
    "\n",
    "        model_2_c_sww.train()\n",
    "        optimizer.zero_grad()\n",
    "\n",
    "        outputs = model_2_c_sww(sentence_vectors, aspect_vectors)\n",
    "        loss = criterion(outputs, polarities)\n",
    "\n",
    "\n",
    "        loss.backward()\n",
    "        optimizer.step()\n",
    "\n",
    "        train_loss += loss.item()\n",
    "\n",
    "    print(f'Epoch [{epoch+1}/{num_epochs}], Loss: {train_loss:.4f}')\n",
    "\n",
    "# Evaluate the model on the test set after training\n",
    "model_2_c_sww.eval()\n",
    "with torch.no_grad():\n",
    "    correct = 0\n",
    "    total = 0\n",
    "    for batch in batches:\n",
    "        sentence_vectors, aspect_vectors, polarities = zip(*batch)\n",
    "        sentence_vectors = torch.stack(sentence_vectors).to(device)\n",
    "        aspect_vectors = torch.stack(aspect_vectors).to(device)\n",
    "        polarities = torch.stack(polarities).to(device)\n",
    "\n",
    "        outputs = model_2_c_sww(sentence_vectors, aspect_vectors)\n",
    "        _, predicted = torch.max(outputs.data, 1)\n",
    "        total += polarities.size(0)\n",
    "        correct += (predicted == polarities).sum().item()\n",
    "\n",
    "    accuracy = 100 * correct / total\n",
    "    print(f'Train Accuracy: {accuracy:.2f}')"
   ]
  },
  {
   "cell_type": "markdown",
   "metadata": {
    "id": "7EZbPbLhEt8J"
   },
   "source": [
    "## Varient-3 with attention"
   ]
  },
  {
   "cell_type": "markdown",
   "metadata": {
    "id": "xoOJ-pvlM1o6"
   },
   "source": [
    "### Attention Model"
   ]
  },
  {
   "cell_type": "code",
   "execution_count": null,
   "metadata": {
    "id": "R3r4uVgZ6vQi"
   },
   "outputs": [],
   "source": [
    "# Define the Attention model\n",
    "class Attention(nn.Module):\n",
    "    def __init__(self, hidden_dim):\n",
    "        super().__init__()\n",
    "        self.attn = nn.Linear(hidden_dim, 6, bias=False)\n",
    "        self.attn1 = nn.Linear(6*70, 70, bias=False)\n",
    "\n",
    "    def forward(self, lstm_output):\n",
    "        attention_scores = self.attn(lstm_output)\n",
    "        # attention_scores = [batch size, seq_len, 6]\n",
    "        attention_scores = attention_scores.reshape(attention_scores.size(0), -1)\n",
    "        # attention_scores = [batch size, seq_len * 6]\n",
    "        attention_scores1 = self.attn1(attention_scores)\n",
    "        # attention_scores1 = [batch size, 50]\n",
    "        return F.softmax(attention_scores1, dim=1)\n",
    "\n",
    "# Define the BiLSTM with Attention model\n",
    "class BiLSTMClassifierWithAttention(nn.Module):\n",
    "    def __init__(self, input_size, hidden_size, num_layers, num_classes, bidirectional=True):\n",
    "        super(BiLSTMClassifierWithAttention, self).__init__()\n",
    "        self.hidden_size = hidden_size\n",
    "        self.num_layers = num_layers\n",
    "        self.bidirectional = bidirectional\n",
    "        self.lstm = nn.LSTM(input_size, hidden_size, num_layers, batch_first=True, bidirectional=bidirectional)\n",
    "        self.attention = Attention(hidden_size * 2 if bidirectional else hidden_size)\n",
    "        self.fc = nn.Sequential(\n",
    "            nn.Linear(hidden_size * 2 if bidirectional else hidden_size, hidden_size),\n",
    "            nn.ReLU(),\n",
    "            nn.Linear(hidden_size, num_classes),\n",
    "        )\n",
    "\n",
    "    def forward(self, x):\n",
    "        h0 = torch.zeros(self.num_layers * 2 if self.bidirectional else self.num_layers, x.size(0), self.hidden_size).to(x.device)\n",
    "        c0 = torch.zeros(self.num_layers * 2 if self.bidirectional else self.num_layers, x.size(0), self.hidden_size).to(x.device)\n",
    "        lstm_output, (hidden, _) = self.lstm(x, (h0, c0))\n",
    "        attention_weights = self.attention(lstm_output)\n",
    "        attention_weights = attention_weights.unsqueeze(2)\n",
    "        weighted = lstm_output * attention_weights\n",
    "        weighted_sum = weighted.sum(dim=1)\n",
    "        out = self.fc(weighted_sum)\n",
    "        return out, attention_weights.squeeze(2)\n",
    "# Set device\n",
    "device = torch.device('cuda' if torch.cuda.is_available() else 'cpu')"
   ]
  },
  {
   "cell_type": "markdown",
   "metadata": {
    "id": "QxROXGLbJcpQ"
   },
   "source": [
    "### Training: without stopwords"
   ]
  },
  {
   "cell_type": "code",
   "execution_count": null,
   "metadata": {
    "colab": {
     "base_uri": "https://localhost:8080/"
    },
    "id": "Wy8ArHBRGyXS",
    "outputId": "a4e76ada-efa3-4ff2-8264-9bdb071c57c3"
   },
   "outputs": [
    {
     "name": "stdout",
     "output_type": "stream",
     "text": [
      "Epoch [1/20], Loss: 29.3527\n",
      "Epoch [2/20], Loss: 25.7507\n",
      "Epoch [3/20], Loss: 24.4521\n",
      "Epoch [4/20], Loss: 23.8902\n",
      "Epoch [5/20], Loss: 23.2521\n",
      "Epoch [6/20], Loss: 22.7966\n",
      "Epoch [7/20], Loss: 22.3701\n",
      "Epoch [8/20], Loss: 22.0151\n",
      "Epoch [9/20], Loss: 21.8995\n",
      "Epoch [10/20], Loss: 21.6770\n",
      "Epoch [11/20], Loss: 20.7789\n",
      "Epoch [12/20], Loss: 20.2713\n",
      "Epoch [13/20], Loss: 19.6003\n",
      "Epoch [14/20], Loss: 18.9773\n",
      "Epoch [15/20], Loss: 18.1774\n",
      "Epoch [16/20], Loss: 17.5170\n",
      "Epoch [17/20], Loss: 16.6622\n",
      "Epoch [18/20], Loss: 15.8507\n",
      "Epoch [19/20], Loss: 15.2593\n",
      "Epoch [20/20], Loss: 13.8569\n",
      "Train Accuracy: 80.24%\n"
     ]
    }
   ],
   "source": [
    "# Hyperparameters\n",
    "input_size = 50\n",
    "hidden_size = 256\n",
    "num_layers = 2\n",
    "num_classes = 3\n",
    "batch_size = 256\n",
    "num_epochs = 20\n",
    "learning_rate = 0.001\n",
    "\n",
    "# Batch Creation\n",
    "max_len = 70\n",
    "batches = model_1_batches(train_corpus, batch_size, max_len)\n",
    "\n",
    "model = BiLSTMClassifierWithAttention(input_size, hidden_size, num_layers, num_classes).to(device)\n",
    "\n",
    "# Loss and optimizer\n",
    "criterion = nn.CrossEntropyLoss()\n",
    "optimizer = optim.Adam(model.parameters(), lr=learning_rate)\n",
    "\n",
    "# Train the model\n",
    "for epoch in range(num_epochs):\n",
    "    loss_model = 0\n",
    "    for batch in batches:\n",
    "        sentence_vectors, polarities = zip(*batch)\n",
    "        sentence_vectors = torch.stack(sentence_vectors).to(device)\n",
    "        polarities = torch.stack(polarities).to(device)\n",
    "\n",
    "        outputs, attention_weights = model(sentence_vectors)\n",
    "        loss = criterion(outputs, polarities)\n",
    "        loss_model +=loss.item()\n",
    "        optimizer.zero_grad()\n",
    "        loss.backward()\n",
    "        optimizer.step()\n",
    "\n",
    "    print(f'Epoch [{epoch+1}/{num_epochs}], Loss: {loss_model:.4f}')\n",
    "\n",
    "model.eval()\n",
    "with torch.no_grad():\n",
    "    correct = 0\n",
    "    total = 0\n",
    "    for batch in batches:\n",
    "        sentence_vectors, polarities = zip(*batch)\n",
    "        sentence_vectors = torch.stack(sentence_vectors).to(device)\n",
    "        polarities = torch.stack(polarities).to(device)\n",
    "\n",
    "        outputs, attention_weights = model(sentence_vectors)\n",
    "        _, predicted = torch.max(outputs.data, 1)\n",
    "        total += polarities.size(0)\n",
    "        correct += (predicted == polarities).sum().item()\n",
    "    accuracy = 100 * correct / total\n",
    "    print(f'Train Accuracy: {accuracy:.2f}%')"
   ]
  },
  {
   "cell_type": "code",
   "execution_count": null,
   "metadata": {
    "colab": {
     "base_uri": "https://localhost:8080/"
    },
    "id": "CG5YHLEXMMlb",
    "outputId": "9475e5a4-2da5-4ae0-d72b-b22d26524285"
   },
   "outputs": [
    {
     "name": "stdout",
     "output_type": "stream",
     "text": [
      "Test Accuracy: 64.04%\n"
     ]
    }
   ],
   "source": [
    "model.eval()\n",
    "with torch.no_grad():\n",
    "    batches = model_1_batches(test_corpus, batch_size, max_len)\n",
    "    correct = 0\n",
    "    total = 0\n",
    "    for batch in batches:\n",
    "        sentence_vectors, polarities = zip(*batch)\n",
    "        sentence_vectors = torch.stack(sentence_vectors).to(device)\n",
    "        polarities = torch.stack(polarities).to(device)\n",
    "\n",
    "        outputs, attention_weights = model(sentence_vectors)\n",
    "        _, predicted = torch.max(outputs.data, 1)\n",
    "        total += polarities.size(0)\n",
    "        correct += (predicted == polarities).sum().item()\n",
    "    accuracy = 100 * correct / total\n",
    "    print(f'Test Accuracy: {accuracy:.2f}%')"
   ]
  },
  {
   "cell_type": "markdown",
   "metadata": {
    "id": "UsxR8MWCKN4T"
   },
   "source": [
    "### Training: with stopwords"
   ]
  },
  {
   "cell_type": "code",
   "execution_count": null,
   "metadata": {
    "colab": {
     "base_uri": "https://localhost:8080/"
    },
    "id": "yb_xyXt_JkCD",
    "outputId": "c3a7bbc7-0069-4835-d276-4d622c3b7f2d"
   },
   "outputs": [
    {
     "name": "stdout",
     "output_type": "stream",
     "text": [
      "Epoch [1/20], Loss: 29.4683\n",
      "Epoch [2/20], Loss: 26.7994\n",
      "Epoch [3/20], Loss: 25.1570\n",
      "Epoch [4/20], Loss: 24.1504\n",
      "Epoch [5/20], Loss: 23.5594\n",
      "Epoch [6/20], Loss: 23.2561\n",
      "Epoch [7/20], Loss: 23.0231\n",
      "Epoch [8/20], Loss: 22.5391\n",
      "Epoch [9/20], Loss: 22.1239\n",
      "Epoch [10/20], Loss: 21.7084\n",
      "Epoch [11/20], Loss: 21.3101\n",
      "Epoch [12/20], Loss: 20.9042\n",
      "Epoch [13/20], Loss: 20.2082\n",
      "Epoch [14/20], Loss: 19.4745\n",
      "Epoch [15/20], Loss: 18.7946\n",
      "Epoch [16/20], Loss: 18.3754\n",
      "Epoch [17/20], Loss: 17.8967\n",
      "Epoch [18/20], Loss: 16.8899\n",
      "Epoch [19/20], Loss: 16.4395\n",
      "Epoch [20/20], Loss: 16.0178\n",
      "Train Accuracy: 69.92%\n"
     ]
    }
   ],
   "source": [
    "# Hyperparameters\n",
    "input_size = 50\n",
    "hidden_size = 256\n",
    "num_layers = 2\n",
    "num_classes = 3\n",
    "batch_size = 256\n",
    "num_epochs = 20\n",
    "learning_rate = 0.001\n",
    "\n",
    "# Batch Creation\n",
    "max_len = 70\n",
    "batches = model_1_batches(train_corpus_sww, batch_size, max_len)\n",
    "\n",
    "model_sww = BiLSTMClassifierWithAttention(input_size, hidden_size, num_layers, num_classes).to(device)\n",
    "\n",
    "# Loss and optimizer\n",
    "criterion = nn.CrossEntropyLoss()\n",
    "optimizer = optim.Adam(model_sww.parameters(), lr=learning_rate)\n",
    "\n",
    "# Train the model\n",
    "for epoch in range(num_epochs):\n",
    "    loss_model = 0\n",
    "    for batch in batches:\n",
    "        sentence_vectors, polarities = zip(*batch)\n",
    "        sentence_vectors = torch.stack(sentence_vectors).to(device)\n",
    "        polarities = torch.stack(polarities).to(device)\n",
    "\n",
    "        outputs, attention_weights = model_sww(sentence_vectors)\n",
    "        loss = criterion(outputs, polarities)\n",
    "        loss_model +=loss.item()\n",
    "        optimizer.zero_grad()\n",
    "        loss.backward()\n",
    "        optimizer.step()\n",
    "\n",
    "    print(f'Epoch [{epoch+1}/{num_epochs}], Loss: {loss_model:.4f}')\n",
    "\n",
    "model_sww.eval()\n",
    "with torch.no_grad():\n",
    "    correct = 0\n",
    "    total = 0\n",
    "    for batch in batches:\n",
    "        sentence_vectors, polarities = zip(*batch)\n",
    "        sentence_vectors = torch.stack(sentence_vectors).to(device)\n",
    "        polarities = torch.stack(polarities).to(device)\n",
    "        outputs, attention_weights = model_sww(sentence_vectors)\n",
    "        _, predicted = torch.max(outputs.data, 1)\n",
    "        total += polarities.size(0)\n",
    "        correct += (predicted == polarities).sum().item()\n",
    "    accuracy = 100 * correct / total\n",
    "    print(f'Train Accuracy: {accuracy:.2f}%')"
   ]
  },
  {
   "cell_type": "markdown",
   "metadata": {
    "id": "WWEY89YZMdct"
   },
   "source": [
    "### Training: with custom stopwords"
   ]
  },
  {
   "cell_type": "code",
   "execution_count": null,
   "metadata": {
    "colab": {
     "base_uri": "https://localhost:8080/"
    },
    "id": "JbYvvo7kLgKq",
    "outputId": "0804a3ee-339d-4e65-98b8-67c482af3fee"
   },
   "outputs": [
    {
     "name": "stderr",
     "output_type": "stream",
     "text": [
      "<ipython-input-19-8fe9946e8c6e>:24: UserWarning: Creating a tensor from a list of numpy.ndarrays is extremely slow. Please consider converting the list to a single numpy.ndarray with numpy.array() before converting to a tensor. (Triggered internally at ../torch/csrc/utils/tensor_new.cpp:275.)\n",
      "  sentence_vectors = torch.tensor(embedding_list, dtype=torch.float32)\n"
     ]
    },
    {
     "name": "stdout",
     "output_type": "stream",
     "text": [
      "Epoch [1/20], Loss: 29.8806\n",
      "Epoch [2/20], Loss: 26.9533\n",
      "Epoch [3/20], Loss: 24.5145\n",
      "Epoch [4/20], Loss: 23.6427\n",
      "Epoch [5/20], Loss: 23.0285\n",
      "Epoch [6/20], Loss: 22.6469\n",
      "Epoch [7/20], Loss: 22.2336\n",
      "Epoch [8/20], Loss: 21.8111\n",
      "Epoch [9/20], Loss: 21.4013\n",
      "Epoch [10/20], Loss: 20.8987\n",
      "Epoch [11/20], Loss: 20.5075\n",
      "Epoch [12/20], Loss: 19.8988\n",
      "Epoch [13/20], Loss: 18.9793\n",
      "Epoch [14/20], Loss: 18.3763\n",
      "Epoch [15/20], Loss: 18.0186\n",
      "Epoch [16/20], Loss: 18.4016\n",
      "Epoch [17/20], Loss: 17.1485\n",
      "Epoch [18/20], Loss: 15.6702\n",
      "Epoch [19/20], Loss: 14.4943\n",
      "Epoch [20/20], Loss: 14.3356\n",
      "Train Accuracy: 80.51%\n"
     ]
    }
   ],
   "source": [
    "# Hyperparameters\n",
    "input_size = 50\n",
    "hidden_size = 256\n",
    "num_layers = 2\n",
    "num_classes = 3\n",
    "batch_size = 256\n",
    "num_epochs = 20\n",
    "learning_rate = 0.001\n",
    "\n",
    "# Batch Creation\n",
    "max_len = 70\n",
    "batches = model_1_batches(train_corpus_c_sww, batch_size, max_len)\n",
    "\n",
    "model_c_sww = BiLSTMClassifierWithAttention(input_size, hidden_size, num_layers, num_classes).to(device)\n",
    "\n",
    "# Loss and optimizer\n",
    "criterion = nn.CrossEntropyLoss()\n",
    "optimizer = optim.Adam(model_c_sww.parameters(), lr=learning_rate)\n",
    "\n",
    "# Train the model\n",
    "for epoch in range(num_epochs):\n",
    "    loss_model = 0\n",
    "    for batch in batches:\n",
    "        sentence_vectors, polarities = zip(*batch)\n",
    "        sentence_vectors = torch.stack(sentence_vectors).to(device)\n",
    "        polarities = torch.stack(polarities).to(device)\n",
    "\n",
    "        outputs, attention_weights = model_c_sww(sentence_vectors)\n",
    "        loss = criterion(outputs, polarities)\n",
    "        loss_model +=loss.item()\n",
    "        optimizer.zero_grad()\n",
    "        loss.backward()\n",
    "        optimizer.step()\n",
    "\n",
    "    print(f'Epoch [{epoch+1}/{num_epochs}], Loss: {loss_model:.4f}')\n",
    "\n",
    "model_c_sww.eval()\n",
    "with torch.no_grad():\n",
    "    correct = 0\n",
    "    total = 0\n",
    "    for batch in batches:\n",
    "        sentence_vectors, polarities = zip(*batch)\n",
    "        sentence_vectors = torch.stack(sentence_vectors).to(device)\n",
    "        polarities = torch.stack(polarities).to(device)\n",
    "        outputs, attention_weights = model_c_sww(sentence_vectors)\n",
    "        _, predicted = torch.max(outputs.data, 1)\n",
    "        total += polarities.size(0)\n",
    "        correct += (predicted == polarities).sum().item()\n",
    "    accuracy = 100 * correct / total\n",
    "    print(f'Train Accuracy: {accuracy:.2f}%')"
   ]
  },
  {
   "cell_type": "markdown",
   "metadata": {
    "id": "ZzO_wQFezVz8"
   },
   "source": [
    "#### Visualising Attention on different sentesnces"
   ]
  },
  {
   "cell_type": "code",
   "execution_count": 96,
   "metadata": {
    "colab": {
     "base_uri": "https://localhost:8080/"
    },
    "id": "sdcKPFVAi5v3",
    "outputId": "0d76ef35-184b-4d7a-fd5d-3ee8d16a8cb3"
   },
   "outputs": [
    {
     "name": "stdout",
     "output_type": "stream",
     "text": [
      "the: 0.009234804660081863\n",
      "atmosphere: 0.0024860305711627007\n",
      "wa: 0.00414225272834301\n",
      "wonderful: 0.012421343475580215\n",
      "however: 0.03221551701426506\n",
      "the: 0.01490062940865755\n",
      "service: 0.02014872059226036\n",
      "and: 0.0038326054345816374\n",
      "food: 0.009260198101401329\n",
      "were: 0.0016536545008420944\n",
      "not: 0.002169385552406311\n",
      "food: 0.0071614691987633705\n"
     ]
    }
   ],
   "source": [
    "data = test_corpus_sww\n",
    "sentence = data[51][0]\n",
    "aspect = data[51][1]\n",
    "polarity = data[51][2]\n",
    "\n",
    "embedding_list = []\n",
    "word_list = []  # Store the words in the sentence\n",
    "\n",
    "for word in sentence:\n",
    "    if str(word) in word_vectors:\n",
    "        embedding_list.append(word_vectors[word])\n",
    "        word_list.append(word)  # Append the word to the word_list\n",
    "    else:\n",
    "        embedding_list.append(np.zeros(50))\n",
    "        word_list.append(word)  # Append the word to the word_list\n",
    "\n",
    "embedding_list.append(word_vectors[aspect])\n",
    "word_list.append(aspect)  # Append the aspect to the word_list\n",
    "\n",
    "for _ in range(max_len - len(embedding_list)):\n",
    "    embedding_list.append(np.zeros(50))\n",
    "    word_list.append('')  # Append an empty string for padding\n",
    "\n",
    "batch = []\n",
    "polarity_map = {'positive': 0, 'neutral': 1, 'negative': 2}\n",
    "\n",
    "sentence_vectors = torch.tensor(embedding_list, dtype=torch.float32)\n",
    "polarity = torch.tensor(polarity_map[polarity], dtype=torch.long)\n",
    "batch.append((sentence_vectors, polarity))\n",
    "\n",
    "model_sww.eval()\n",
    "\n",
    "with torch.no_grad():\n",
    "    sentence_vectors, polarities = zip(*batch)\n",
    "    sentence_vectors = torch.stack(sentence_vectors).to(device)\n",
    "    polarities = torch.stack(polarities).to(device)\n",
    "    outputs, attention_weights = model_sww(sentence_vectors)\n",
    "    word_prob={}\n",
    "\n",
    "\n",
    "    for word, attention in zip(word_list, attention_weights.squeeze()):\n",
    "      if word.strip():\n",
    "            print(f\"{word}: {attention.item()}\")\n",
    "            word_prob[word]=attention.item()"
   ]
  },
  {
   "cell_type": "code",
   "execution_count": 93,
   "metadata": {
    "colab": {
     "base_uri": "https://localhost:8080/"
    },
    "id": "oJ96SSvakd7J",
    "outputId": "0056ee5d-c295-4fda-93eb-90e9a0ce3c05"
   },
   "outputs": [
    {
     "data": {
      "text/plain": [
       "array(['The atmosphere was wonderful, however the service and food were not.',\n",
       "       'service', 'negative'], dtype=object)"
      ]
     },
     "execution_count": 93,
     "metadata": {},
     "output_type": "execute_result"
    }
   ],
   "source": [
    "first = test_data.to_numpy()\n",
    "first[50]"
   ]
  },
  {
   "cell_type": "code",
   "execution_count": 95,
   "metadata": {
    "colab": {
     "base_uri": "https://localhost:8080/",
     "height": 158
    },
    "id": "yhq1t1q8nIz4",
    "outputId": "e8fed413-ef1b-4aa0-e9f2-3378757bcbd1"
   },
   "outputs": [
    {
     "data": {
      "image/png": "[encoded data removed]",
      "text/plain": [
       "<Figure size 800x100 with 2 Axes>"
      ]
     },
     "metadata": {},
     "output_type": "display_data"
    }
   ],
   "source": [
    "import matplotlib.pyplot as plt\n",
    "import seaborn as sns\n",
    "\n",
    "word_prob_df = pd.DataFrame(list(word_prob.items()), columns=['Word', 'Attention'])\n",
    "\n",
    "fig, ax = plt.subplots(figsize=(8,1))\n",
    "sns.heatmap([word_prob_df['Attention']], annot=word_prob_df[['Word']].T.values, fmt='', cmap='Blues', cbar=True, cbar_kws={'orientation':'horizontal'}, ax=ax)\n",
    "\n",
    "\n",
    "cbar = ax.collections[0].colorbar\n",
    "cbar.set_ticks([0.02, 0.04, 0.06])\n",
    "cbar.set_ticklabels(['Low', 'Medium', 'High'])\n",
    "ax.set_xticks([])\n",
    "ax.set_yticks([])\n",
    "plt.show()"
   ]
  },
  {
   "cell_type": "code",
   "execution_count": 69,
   "metadata": {
    "colab": {
     "base_uri": "https://localhost:8080/"
    },
    "id": "YPYdTaBSzL6K",
    "outputId": "4f0ff3c9-480a-4772-c8e5-257e63560d4d"
   },
   "outputs": [
    {
     "data": {
      "text/plain": [
       "array(['The atmosphere was wonderful, however the service and food were not.',\n",
       "       'food', 'negative'], dtype=object)"
      ]
     },
     "execution_count": 69,
     "metadata": {},
     "output_type": "execute_result"
    }
   ],
   "source": [
    "first[51]"
   ]
  },
  {
   "cell_type": "code",
   "execution_count": 97,
   "metadata": {
    "colab": {
     "base_uri": "https://localhost:8080/",
     "height": 158
    },
    "id": "2NzaXcAHymqZ",
    "outputId": "c0932106-8edb-409a-9b70-99f088203eaa"
   },
   "outputs": [
    {
     "data": {
      "image/png": "[encoded data removed]",
      "text/plain": [
       "<Figure size 800x100 with 2 Axes>"
      ]
     },
     "metadata": {},
     "output_type": "display_data"
    }
   ],
   "source": [
    "import matplotlib.pyplot as plt\n",
    "import seaborn as sns\n",
    "\n",
    "word_prob_df = pd.DataFrame(list(word_prob.items()), columns=['Word', 'Attention'])\n",
    "\n",
    "fig, ax = plt.subplots(figsize=(8,1))\n",
    "sns.heatmap([word_prob_df['Attention']], annot=word_prob_df[['Word']].T.values, fmt='', cmap='Blues', cbar=True, cbar_kws={'orientation':'horizontal'}, ax=ax)\n",
    "\n",
    "\n",
    "cbar = ax.collections[0].colorbar\n",
    "cbar.set_ticks([0.01, 0.02, 0.03])\n",
    "cbar.set_ticklabels(['Low', 'Medium', 'High'])\n",
    "ax.set_xticks([])\n",
    "ax.set_yticks([])\n",
    "plt.show()"
   ]
  },
  {
   "cell_type": "markdown",
   "metadata": {
    "id": "8v-wHFgHUenB"
   },
   "source": [
    "## Hyperparameter Tuning\n",
    "\n",
    "Used training set to training and validation set for testing"
   ]
  },
  {
   "cell_type": "code",
   "execution_count": null,
   "metadata": {
    "id": "4MqM7N8c1J6k"
   },
   "outputs": [],
   "source": [
    "import torch\n",
    "import torch.nn as nn\n",
    "import torch.optim as optim\n",
    "import torch.nn.functional as F"
   ]
  },
  {
   "cell_type": "code",
   "execution_count": null,
   "metadata": {
    "id": "mSCvgcTAee-D"
   },
   "outputs": [],
   "source": [
    "# Define the Attention model\n",
    "class Attention(nn.Module):\n",
    "    def __init__(self, hidden_dim):\n",
    "        super().__init__()\n",
    "        self.attn = nn.Linear(hidden_dim, 6, bias=False)\n",
    "        self.attn1 = nn.Linear(6*70, 70, bias=False)\n",
    "\n",
    "    def forward(self, lstm_output):\n",
    "        attention_scores = self.attn(lstm_output)\n",
    "        # attention_scores = [batch size, seq_len, 6]\n",
    "        attention_scores = attention_scores.reshape(attention_scores.size(0), -1)\n",
    "        # attention_scores = [batch size, seq_len * 6]\n",
    "        #print(attention_scores.shape)\n",
    "        attention_scores1 = self.attn1(attention_scores)\n",
    "        # attention_scores1 = [batch size, 50]\n",
    "        return F.softmax(attention_scores1, dim=1)\n",
    "\n",
    "# Define the BiLSTM with Attention model\n",
    "class BiLSTMClassifierWithAttention(nn.Module):\n",
    "    def __init__(self, input_size, hidden_size, num_layers, dropout, num_classes, bidirectional=True):\n",
    "        super(BiLSTMClassifierWithAttention, self).__init__()\n",
    "        self.hidden_size = hidden_size\n",
    "        self.num_layers = num_layers\n",
    "        self.bidirectional = bidirectional\n",
    "        self.dropout = dropout\n",
    "        self.lstm = nn.LSTM(input_size, hidden_size, num_layers, dropout=self.dropout, batch_first=True, bidirectional=bidirectional)\n",
    "        self.attention = Attention(hidden_size * 2 if bidirectional else hidden_size)\n",
    "        self.fc = nn.Sequential(\n",
    "            nn.Linear(hidden_size * 2 if bidirectional else hidden_size, hidden_size),\n",
    "            nn.ReLU(),\n",
    "            nn.Linear(hidden_size, num_classes),\n",
    "        )\n",
    "\n",
    "    def forward(self, x):\n",
    "        h0 = torch.zeros(self.num_layers * 2 if self.bidirectional else self.num_layers, x.size(0), self.hidden_size).to(x.device)\n",
    "        c0 = torch.zeros(self.num_layers * 2 if self.bidirectional else self.num_layers, x.size(0), self.hidden_size).to(x.device)\n",
    "        lstm_output, (hidden, _) = self.lstm(x, (h0, c0))\n",
    "        attention_weights = self.attention(lstm_output)\n",
    "        attention_weights = attention_weights.unsqueeze(2)\n",
    "        weighted = lstm_output * attention_weights\n",
    "        weighted_sum = weighted.sum(dim=1)\n",
    "        out = self.fc(weighted_sum)\n",
    "        return out, attention_weights.squeeze(2)\n",
    "# Set device\n",
    "device = torch.device('cuda' if torch.cuda.is_available() else 'cpu')"
   ]
  },
  {
   "cell_type": "code",
   "execution_count": null,
   "metadata": {
    "colab": {
     "base_uri": "https://localhost:8080/"
    },
    "id": "D-eOBITrehf3",
    "outputId": "81cd74e5-901d-4bf7-ea96-0b4a986df9a4"
   },
   "outputs": [
    {
     "name": "stderr",
     "output_type": "stream",
     "text": [
      "/usr/local/lib/python3.10/dist-packages/torch/nn/modules/rnn.py:83: UserWarning: dropout option adds dropout after all but last recurrent layer, so non-zero dropout expects num_layers greater than 1, but got dropout=0.1 and num_layers=1\n",
      "  warnings.warn(\"dropout option adds dropout after all but last \"\n"
     ]
    },
    {
     "name": "stdout",
     "output_type": "stream",
     "text": [
      "Layers: 1, Learning rate: 0.1, hidden size: 64, Dropout: 0.1, Accuracy: 43.6937\n"
     ]
    },
    {
     "name": "stderr",
     "output_type": "stream",
     "text": [
      "/usr/local/lib/python3.10/dist-packages/torch/nn/modules/rnn.py:83: UserWarning: dropout option adds dropout after all but last recurrent layer, so non-zero dropout expects num_layers greater than 1, but got dropout=0.2 and num_layers=1\n",
      "  warnings.warn(\"dropout option adds dropout after all but last \"\n"
     ]
    },
    {
     "name": "stdout",
     "output_type": "stream",
     "text": [
      "Layers: 1, Learning rate: 0.1, hidden size: 64, Dropout: 0.2, Accuracy: 63.9640\n"
     ]
    },
    {
     "name": "stderr",
     "output_type": "stream",
     "text": [
      "/usr/local/lib/python3.10/dist-packages/torch/nn/modules/rnn.py:83: UserWarning: dropout option adds dropout after all but last recurrent layer, so non-zero dropout expects num_layers greater than 1, but got dropout=0.3 and num_layers=1\n",
      "  warnings.warn(\"dropout option adds dropout after all but last \"\n"
     ]
    },
    {
     "name": "stdout",
     "output_type": "stream",
     "text": [
      "Layers: 1, Learning rate: 0.1, hidden size: 64, Dropout: 0.3, Accuracy: 43.6937\n"
     ]
    },
    {
     "name": "stderr",
     "output_type": "stream",
     "text": [
      "/usr/local/lib/python3.10/dist-packages/torch/nn/modules/rnn.py:83: UserWarning: dropout option adds dropout after all but last recurrent layer, so non-zero dropout expects num_layers greater than 1, but got dropout=0.4 and num_layers=1\n",
      "  warnings.warn(\"dropout option adds dropout after all but last \"\n"
     ]
    },
    {
     "name": "stdout",
     "output_type": "stream",
     "text": [
      "Layers: 1, Learning rate: 0.1, hidden size: 64, Dropout: 0.4, Accuracy: 43.6937\n"
     ]
    },
    {
     "name": "stderr",
     "output_type": "stream",
     "text": [
      "/usr/local/lib/python3.10/dist-packages/torch/nn/modules/rnn.py:83: UserWarning: dropout option adds dropout after all but last recurrent layer, so non-zero dropout expects num_layers greater than 1, but got dropout=0.5 and num_layers=1\n",
      "  warnings.warn(\"dropout option adds dropout after all but last \"\n"
     ]
    },
    {
     "name": "stdout",
     "output_type": "stream",
     "text": [
      "Layers: 1, Learning rate: 0.1, hidden size: 64, Dropout: 0.5, Accuracy: 43.6937\n",
      "\n",
      "Layers: 1, Learning rate: 0.1, hidden size: 128, Dropout: 0.1, Accuracy: 43.6937\n",
      "Layers: 1, Learning rate: 0.1, hidden size: 128, Dropout: 0.2, Accuracy: 58.8964\n",
      "Layers: 1, Learning rate: 0.1, hidden size: 128, Dropout: 0.3, Accuracy: 43.6937\n",
      "Layers: 1, Learning rate: 0.1, hidden size: 128, Dropout: 0.4, Accuracy: 43.6937\n",
      "Layers: 1, Learning rate: 0.1, hidden size: 128, Dropout: 0.5, Accuracy: 43.6937\n",
      "\n",
      "Layers: 1, Learning rate: 0.1, hidden size: 256, Dropout: 0.1, Accuracy: 43.6937\n",
      "Layers: 1, Learning rate: 0.1, hidden size: 256, Dropout: 0.2, Accuracy: 43.6937\n",
      "Layers: 1, Learning rate: 0.1, hidden size: 256, Dropout: 0.3, Accuracy: 43.6937\n",
      "Layers: 1, Learning rate: 0.1, hidden size: 256, Dropout: 0.4, Accuracy: 43.6937\n",
      "Layers: 1, Learning rate: 0.1, hidden size: 256, Dropout: 0.5, Accuracy: 43.6937\n",
      "\n",
      "Layers: 1, Learning rate: 0.1, hidden size: 512, Dropout: 0.1, Accuracy: 43.6937\n",
      "Layers: 1, Learning rate: 0.1, hidden size: 512, Dropout: 0.2, Accuracy: 43.6937\n",
      "Layers: 1, Learning rate: 0.1, hidden size: 512, Dropout: 0.3, Accuracy: 43.6937\n",
      "Layers: 1, Learning rate: 0.1, hidden size: 512, Dropout: 0.4, Accuracy: 43.6937\n",
      "Layers: 1, Learning rate: 0.1, hidden size: 512, Dropout: 0.5, Accuracy: 43.6937\n",
      "\n",
      "Layers: 1, Learning rate: 0.01, hidden size: 64, Dropout: 0.1, Accuracy: 60.4730\n",
      "Layers: 1, Learning rate: 0.01, hidden size: 64, Dropout: 0.2, Accuracy: 60.9234\n",
      "Layers: 1, Learning rate: 0.01, hidden size: 64, Dropout: 0.3, Accuracy: 60.2477\n",
      "Layers: 1, Learning rate: 0.01, hidden size: 64, Dropout: 0.4, Accuracy: 63.6261\n",
      "Layers: 1, Learning rate: 0.01, hidden size: 64, Dropout: 0.5, Accuracy: 64.9775\n",
      "\n",
      "Layers: 1, Learning rate: 0.01, hidden size: 128, Dropout: 0.1, Accuracy: 61.5991\n",
      "Layers: 1, Learning rate: 0.01, hidden size: 128, Dropout: 0.2, Accuracy: 62.8378\n",
      "Layers: 1, Learning rate: 0.01, hidden size: 128, Dropout: 0.3, Accuracy: 60.1351\n",
      "Layers: 1, Learning rate: 0.01, hidden size: 128, Dropout: 0.4, Accuracy: 63.6261\n",
      "Layers: 1, Learning rate: 0.01, hidden size: 128, Dropout: 0.5, Accuracy: 62.0495\n",
      "\n",
      "Layers: 1, Learning rate: 0.01, hidden size: 256, Dropout: 0.1, Accuracy: 45.0450\n",
      "Layers: 1, Learning rate: 0.01, hidden size: 256, Dropout: 0.2, Accuracy: 59.4595\n",
      "Layers: 1, Learning rate: 0.01, hidden size: 256, Dropout: 0.3, Accuracy: 59.7973\n",
      "Layers: 1, Learning rate: 0.01, hidden size: 256, Dropout: 0.4, Accuracy: 61.1486\n",
      "Layers: 1, Learning rate: 0.01, hidden size: 256, Dropout: 0.5, Accuracy: 62.1622\n",
      "\n",
      "Layers: 1, Learning rate: 0.01, hidden size: 512, Dropout: 0.1, Accuracy: 43.6937\n",
      "Layers: 1, Learning rate: 0.01, hidden size: 512, Dropout: 0.2, Accuracy: 43.6937\n",
      "Layers: 1, Learning rate: 0.01, hidden size: 512, Dropout: 0.3, Accuracy: 43.6937\n",
      "Layers: 1, Learning rate: 0.01, hidden size: 512, Dropout: 0.4, Accuracy: 46.1712\n",
      "Layers: 1, Learning rate: 0.01, hidden size: 512, Dropout: 0.5, Accuracy: 43.6937\n",
      "\n",
      "Layers: 1, Learning rate: 0.001, hidden size: 64, Dropout: 0.1, Accuracy: 63.5135\n",
      "Layers: 1, Learning rate: 0.001, hidden size: 64, Dropout: 0.2, Accuracy: 61.7117\n",
      "Layers: 1, Learning rate: 0.001, hidden size: 64, Dropout: 0.3, Accuracy: 60.6982\n",
      "Layers: 1, Learning rate: 0.001, hidden size: 64, Dropout: 0.4, Accuracy: 61.1486\n",
      "Layers: 1, Learning rate: 0.001, hidden size: 64, Dropout: 0.5, Accuracy: 62.0495\n",
      "\n",
      "Layers: 1, Learning rate: 0.001, hidden size: 128, Dropout: 0.1, Accuracy: 61.7117\n",
      "Layers: 1, Learning rate: 0.001, hidden size: 128, Dropout: 0.2, Accuracy: 60.6982\n",
      "Layers: 1, Learning rate: 0.001, hidden size: 128, Dropout: 0.3, Accuracy: 60.0225\n",
      "Layers: 1, Learning rate: 0.001, hidden size: 128, Dropout: 0.4, Accuracy: 60.2477\n",
      "Layers: 1, Learning rate: 0.001, hidden size: 128, Dropout: 0.5, Accuracy: 61.1486\n",
      "\n",
      "Layers: 1, Learning rate: 0.001, hidden size: 256, Dropout: 0.1, Accuracy: 64.5270\n",
      "Layers: 1, Learning rate: 0.001, hidden size: 256, Dropout: 0.2, Accuracy: 61.8243\n",
      "Layers: 1, Learning rate: 0.001, hidden size: 256, Dropout: 0.3, Accuracy: 61.1486\n",
      "Layers: 1, Learning rate: 0.001, hidden size: 256, Dropout: 0.4, Accuracy: 62.2748\n",
      "Layers: 1, Learning rate: 0.001, hidden size: 256, Dropout: 0.5, Accuracy: 59.5721\n",
      "\n",
      "Layers: 1, Learning rate: 0.001, hidden size: 512, Dropout: 0.1, Accuracy: 59.1216\n",
      "Layers: 1, Learning rate: 0.001, hidden size: 512, Dropout: 0.2, Accuracy: 57.3198\n",
      "Layers: 1, Learning rate: 0.001, hidden size: 512, Dropout: 0.3, Accuracy: 62.0495\n",
      "Layers: 1, Learning rate: 0.001, hidden size: 512, Dropout: 0.4, Accuracy: 59.2342\n",
      "Layers: 1, Learning rate: 0.001, hidden size: 512, Dropout: 0.5, Accuracy: 57.3198\n",
      "\n",
      "Layers: 2, Learning rate: 0.1, hidden size: 64, Dropout: 0.1, Accuracy: 43.6937\n",
      "Layers: 2, Learning rate: 0.1, hidden size: 64, Dropout: 0.2, Accuracy: 43.6937\n",
      "Layers: 2, Learning rate: 0.1, hidden size: 64, Dropout: 0.3, Accuracy: 43.6937\n",
      "Layers: 2, Learning rate: 0.1, hidden size: 64, Dropout: 0.4, Accuracy: 43.6937\n",
      "Layers: 2, Learning rate: 0.1, hidden size: 64, Dropout: 0.5, Accuracy: 43.6937\n",
      "\n",
      "Layers: 2, Learning rate: 0.1, hidden size: 128, Dropout: 0.1, Accuracy: 43.6937\n",
      "Layers: 2, Learning rate: 0.1, hidden size: 128, Dropout: 0.2, Accuracy: 43.6937\n",
      "Layers: 2, Learning rate: 0.1, hidden size: 128, Dropout: 0.3, Accuracy: 43.6937\n",
      "Layers: 2, Learning rate: 0.1, hidden size: 128, Dropout: 0.4, Accuracy: 43.6937\n",
      "Layers: 2, Learning rate: 0.1, hidden size: 128, Dropout: 0.5, Accuracy: 43.6937\n",
      "\n",
      "Layers: 2, Learning rate: 0.1, hidden size: 256, Dropout: 0.1, Accuracy: 43.6937\n",
      "Layers: 2, Learning rate: 0.1, hidden size: 256, Dropout: 0.2, Accuracy: 43.6937\n",
      "Layers: 2, Learning rate: 0.1, hidden size: 256, Dropout: 0.3, Accuracy: 43.6937\n",
      "Layers: 2, Learning rate: 0.1, hidden size: 256, Dropout: 0.4, Accuracy: 43.6937\n",
      "Layers: 2, Learning rate: 0.1, hidden size: 256, Dropout: 0.5, Accuracy: 43.6937\n",
      "\n",
      "Layers: 2, Learning rate: 0.1, hidden size: 512, Dropout: 0.1, Accuracy: 43.6937\n",
      "Layers: 2, Learning rate: 0.1, hidden size: 512, Dropout: 0.2, Accuracy: 43.6937\n",
      "Layers: 2, Learning rate: 0.1, hidden size: 512, Dropout: 0.3, Accuracy: 43.6937\n",
      "Layers: 2, Learning rate: 0.1, hidden size: 512, Dropout: 0.4, Accuracy: 43.6937\n",
      "Layers: 2, Learning rate: 0.1, hidden size: 512, Dropout: 0.5, Accuracy: 43.6937\n",
      "\n",
      "Layers: 2, Learning rate: 0.01, hidden size: 64, Dropout: 0.1, Accuracy: 61.4865\n",
      "Layers: 2, Learning rate: 0.01, hidden size: 64, Dropout: 0.2, Accuracy: 64.9775\n",
      "Layers: 2, Learning rate: 0.01, hidden size: 64, Dropout: 0.3, Accuracy: 63.5135\n",
      "Layers: 2, Learning rate: 0.01, hidden size: 64, Dropout: 0.4, Accuracy: 64.7523\n",
      "Layers: 2, Learning rate: 0.01, hidden size: 64, Dropout: 0.5, Accuracy: 63.2883\n",
      "\n",
      "Layers: 2, Learning rate: 0.01, hidden size: 128, Dropout: 0.1, Accuracy: 61.0360\n",
      "Layers: 2, Learning rate: 0.01, hidden size: 128, Dropout: 0.2, Accuracy: 63.1757\n",
      "Layers: 2, Learning rate: 0.01, hidden size: 128, Dropout: 0.3, Accuracy: 63.0631\n",
      "Layers: 2, Learning rate: 0.01, hidden size: 128, Dropout: 0.4, Accuracy: 63.8514\n",
      "Layers: 2, Learning rate: 0.01, hidden size: 128, Dropout: 0.5, Accuracy: 64.4144\n",
      "\n",
      "Layers: 2, Learning rate: 0.01, hidden size: 256, Dropout: 0.1, Accuracy: 43.6937\n",
      "Layers: 2, Learning rate: 0.01, hidden size: 256, Dropout: 0.2, Accuracy: 43.6937\n",
      "Layers: 2, Learning rate: 0.01, hidden size: 256, Dropout: 0.3, Accuracy: 61.5991\n",
      "Layers: 2, Learning rate: 0.01, hidden size: 256, Dropout: 0.4, Accuracy: 59.0090\n",
      "Layers: 2, Learning rate: 0.01, hidden size: 256, Dropout: 0.5, Accuracy: 60.3604\n",
      "\n",
      "Layers: 2, Learning rate: 0.01, hidden size: 512, Dropout: 0.1, Accuracy: 43.6937\n",
      "Layers: 2, Learning rate: 0.01, hidden size: 512, Dropout: 0.2, Accuracy: 43.6937\n",
      "Layers: 2, Learning rate: 0.01, hidden size: 512, Dropout: 0.3, Accuracy: 43.6937\n",
      "Layers: 2, Learning rate: 0.01, hidden size: 512, Dropout: 0.4, Accuracy: 44.2568\n",
      "Layers: 2, Learning rate: 0.01, hidden size: 512, Dropout: 0.5, Accuracy: 43.6937\n",
      "\n",
      "Layers: 2, Learning rate: 0.001, hidden size: 64, Dropout: 0.1, Accuracy: 63.4009\n",
      "Layers: 2, Learning rate: 0.001, hidden size: 64, Dropout: 0.2, Accuracy: 62.6126\n",
      "Layers: 2, Learning rate: 0.001, hidden size: 64, Dropout: 0.3, Accuracy: 63.5135\n",
      "Layers: 2, Learning rate: 0.001, hidden size: 64, Dropout: 0.4, Accuracy: 62.3874\n",
      "Layers: 2, Learning rate: 0.001, hidden size: 64, Dropout: 0.5, Accuracy: 63.6261\n",
      "\n",
      "Layers: 2, Learning rate: 0.001, hidden size: 128, Dropout: 0.1, Accuracy: 63.2883\n",
      "Layers: 2, Learning rate: 0.001, hidden size: 128, Dropout: 0.2, Accuracy: 60.0225\n",
      "Layers: 2, Learning rate: 0.001, hidden size: 128, Dropout: 0.3, Accuracy: 62.7252\n",
      "Layers: 2, Learning rate: 0.001, hidden size: 128, Dropout: 0.4, Accuracy: 62.2748\n",
      "Layers: 2, Learning rate: 0.001, hidden size: 128, Dropout: 0.5, Accuracy: 58.8964\n",
      "\n",
      "Layers: 2, Learning rate: 0.001, hidden size: 256, Dropout: 0.1, Accuracy: 61.0360\n",
      "Layers: 2, Learning rate: 0.001, hidden size: 256, Dropout: 0.2, Accuracy: 59.1216\n",
      "Layers: 2, Learning rate: 0.001, hidden size: 256, Dropout: 0.3, Accuracy: 60.3604\n",
      "Layers: 2, Learning rate: 0.001, hidden size: 256, Dropout: 0.4, Accuracy: 62.5000\n",
      "Layers: 2, Learning rate: 0.001, hidden size: 256, Dropout: 0.5, Accuracy: 60.2477\n",
      "\n",
      "Layers: 2, Learning rate: 0.001, hidden size: 512, Dropout: 0.1, Accuracy: 62.2748\n",
      "Layers: 2, Learning rate: 0.001, hidden size: 512, Dropout: 0.2, Accuracy: 56.9820\n",
      "Layers: 2, Learning rate: 0.001, hidden size: 512, Dropout: 0.3, Accuracy: 58.5586\n",
      "Layers: 2, Learning rate: 0.001, hidden size: 512, Dropout: 0.4, Accuracy: 60.5856\n",
      "Layers: 2, Learning rate: 0.001, hidden size: 512, Dropout: 0.5, Accuracy: 58.3333\n",
      "\n",
      "Layers: 3, Learning rate: 0.1, hidden size: 64, Dropout: 0.1, Accuracy: 43.6937\n",
      "Layers: 3, Learning rate: 0.1, hidden size: 64, Dropout: 0.2, Accuracy: 43.6937\n",
      "Layers: 3, Learning rate: 0.1, hidden size: 64, Dropout: 0.3, Accuracy: 43.6937\n",
      "Layers: 3, Learning rate: 0.1, hidden size: 64, Dropout: 0.4, Accuracy: 43.6937\n",
      "Layers: 3, Learning rate: 0.1, hidden size: 64, Dropout: 0.5, Accuracy: 43.6937\n",
      "\n",
      "Layers: 3, Learning rate: 0.1, hidden size: 128, Dropout: 0.1, Accuracy: 43.6937\n",
      "Layers: 3, Learning rate: 0.1, hidden size: 128, Dropout: 0.2, Accuracy: 43.6937\n",
      "Layers: 3, Learning rate: 0.1, hidden size: 128, Dropout: 0.3, Accuracy: 43.6937\n",
      "Layers: 3, Learning rate: 0.1, hidden size: 128, Dropout: 0.4, Accuracy: 43.6937\n",
      "Layers: 3, Learning rate: 0.1, hidden size: 128, Dropout: 0.5, Accuracy: 43.6937\n",
      "\n",
      "Layers: 3, Learning rate: 0.1, hidden size: 256, Dropout: 0.1, Accuracy: 43.6937\n",
      "Layers: 3, Learning rate: 0.1, hidden size: 256, Dropout: 0.2, Accuracy: 43.6937\n",
      "Layers: 3, Learning rate: 0.1, hidden size: 256, Dropout: 0.3, Accuracy: 43.6937\n",
      "Layers: 3, Learning rate: 0.1, hidden size: 256, Dropout: 0.4, Accuracy: 43.6937\n",
      "Layers: 3, Learning rate: 0.1, hidden size: 256, Dropout: 0.5, Accuracy: 43.6937\n",
      "\n",
      "Layers: 3, Learning rate: 0.1, hidden size: 512, Dropout: 0.1, Accuracy: 43.6937\n",
      "Layers: 3, Learning rate: 0.1, hidden size: 512, Dropout: 0.2, Accuracy: 43.6937\n",
      "Layers: 3, Learning rate: 0.1, hidden size: 512, Dropout: 0.3, Accuracy: 43.6937\n",
      "Layers: 3, Learning rate: 0.1, hidden size: 512, Dropout: 0.4, Accuracy: 43.6937\n",
      "Layers: 3, Learning rate: 0.1, hidden size: 512, Dropout: 0.5, Accuracy: 43.6937\n",
      "\n",
      "Layers: 3, Learning rate: 0.01, hidden size: 64, Dropout: 0.1, Accuracy: 64.4144\n",
      "Layers: 3, Learning rate: 0.01, hidden size: 64, Dropout: 0.2, Accuracy: 64.9775\n",
      "Layers: 3, Learning rate: 0.01, hidden size: 64, Dropout: 0.3, Accuracy: 61.4865\n",
      "Layers: 3, Learning rate: 0.01, hidden size: 64, Dropout: 0.4, Accuracy: 64.8649\n",
      "Layers: 3, Learning rate: 0.01, hidden size: 64, Dropout: 0.5, Accuracy: 63.6261\n",
      "\n",
      "Layers: 3, Learning rate: 0.01, hidden size: 128, Dropout: 0.1, Accuracy: 61.4865\n",
      "Layers: 3, Learning rate: 0.01, hidden size: 128, Dropout: 0.2, Accuracy: 64.8649\n",
      "Layers: 3, Learning rate: 0.01, hidden size: 128, Dropout: 0.3, Accuracy: 63.9640\n",
      "Layers: 3, Learning rate: 0.01, hidden size: 128, Dropout: 0.4, Accuracy: 43.9189\n",
      "Layers: 3, Learning rate: 0.01, hidden size: 128, Dropout: 0.5, Accuracy: 64.7523\n",
      "\n",
      "Layers: 3, Learning rate: 0.01, hidden size: 256, Dropout: 0.1, Accuracy: 43.6937\n",
      "Layers: 3, Learning rate: 0.01, hidden size: 256, Dropout: 0.2, Accuracy: 43.6937\n",
      "Layers: 3, Learning rate: 0.01, hidden size: 256, Dropout: 0.3, Accuracy: 43.6937\n",
      "Layers: 3, Learning rate: 0.01, hidden size: 256, Dropout: 0.4, Accuracy: 43.6937\n",
      "Layers: 3, Learning rate: 0.01, hidden size: 256, Dropout: 0.5, Accuracy: 43.6937\n",
      "\n",
      "Layers: 3, Learning rate: 0.01, hidden size: 512, Dropout: 0.1, Accuracy: 43.6937\n",
      "Layers: 3, Learning rate: 0.01, hidden size: 512, Dropout: 0.2, Accuracy: 43.6937\n",
      "Layers: 3, Learning rate: 0.01, hidden size: 512, Dropout: 0.3, Accuracy: 43.6937\n",
      "Layers: 3, Learning rate: 0.01, hidden size: 512, Dropout: 0.4, Accuracy: 43.6937\n",
      "Layers: 3, Learning rate: 0.01, hidden size: 512, Dropout: 0.5, Accuracy: 43.6937\n",
      "\n",
      "Layers: 3, Learning rate: 0.001, hidden size: 64, Dropout: 0.1, Accuracy: 61.8243\n",
      "Layers: 3, Learning rate: 0.001, hidden size: 64, Dropout: 0.2, Accuracy: 60.5856\n",
      "Layers: 3, Learning rate: 0.001, hidden size: 64, Dropout: 0.3, Accuracy: 64.3018\n",
      "Layers: 3, Learning rate: 0.001, hidden size: 64, Dropout: 0.4, Accuracy: 62.7252\n",
      "Layers: 3, Learning rate: 0.001, hidden size: 64, Dropout: 0.5, Accuracy: 61.8243\n",
      "\n",
      "Layers: 3, Learning rate: 0.001, hidden size: 128, Dropout: 0.1, Accuracy: 62.2748\n",
      "Layers: 3, Learning rate: 0.001, hidden size: 128, Dropout: 0.2, Accuracy: 61.2613\n",
      "Layers: 3, Learning rate: 0.001, hidden size: 128, Dropout: 0.3, Accuracy: 61.5991\n",
      "Layers: 3, Learning rate: 0.001, hidden size: 128, Dropout: 0.4, Accuracy: 59.3468\n",
      "Layers: 3, Learning rate: 0.001, hidden size: 128, Dropout: 0.5, Accuracy: 63.0631\n",
      "\n",
      "Layers: 3, Learning rate: 0.001, hidden size: 256, Dropout: 0.1, Accuracy: 60.5856\n",
      "Layers: 3, Learning rate: 0.001, hidden size: 256, Dropout: 0.2, Accuracy: 58.7838\n",
      "Layers: 3, Learning rate: 0.001, hidden size: 256, Dropout: 0.3, Accuracy: 62.0495\n",
      "Layers: 3, Learning rate: 0.001, hidden size: 256, Dropout: 0.4, Accuracy: 60.2477\n",
      "Layers: 3, Learning rate: 0.001, hidden size: 256, Dropout: 0.5, Accuracy: 64.0766\n",
      "\n",
      "Layers: 3, Learning rate: 0.001, hidden size: 512, Dropout: 0.1, Accuracy: 62.3874\n",
      "Layers: 3, Learning rate: 0.001, hidden size: 512, Dropout: 0.2, Accuracy: 58.8964\n",
      "Layers: 3, Learning rate: 0.001, hidden size: 512, Dropout: 0.3, Accuracy: 54.5045\n",
      "Layers: 3, Learning rate: 0.001, hidden size: 512, Dropout: 0.4, Accuracy: 61.0360\n",
      "Layers: 3, Learning rate: 0.001, hidden size: 512, Dropout: 0.5, Accuracy: 59.3468\n",
      "\n"
     ]
    }
   ],
   "source": [
    "# Hyperparameters\n",
    "input_size = 50\n",
    "hidden_sizes = (64, 128, 256, 512)\n",
    "num_layers_list = (1, 2, 3)\n",
    "num_classes = 3\n",
    "batch_size = 256\n",
    "num_epochs = 20\n",
    "learning_rates = (0.1, 0.01, 0.001)\n",
    "dropouts = (0.1, 0.2, 0.3, 0.4, 0.5)\n",
    "\n",
    "# Batch Creation\n",
    "max_len = 70\n",
    "batches = model_1_batches(train_corpus_c_sww, batch_size, max_len)\n",
    "\n",
    "for num_layers in num_layers_list:  # Iterate over num_layers_list\n",
    "  for learning_rate in learning_rates:\n",
    "    for hidden_size in hidden_sizes:\n",
    "      for dropout in dropouts:\n",
    "      # Initialize the model\n",
    "        model_c_sww = BiLSTMClassifierWithAttention(input_size, hidden_size, num_layers, dropout, num_classes).to(device)\n",
    "\n",
    "      # Loss and optimizer\n",
    "        criterion = nn.CrossEntropyLoss()\n",
    "        optimizer = optim.Adam(model_c_sww.parameters(), lr=learning_rate)\n",
    "\n",
    "        # Train the model\n",
    "        for epoch in range(num_epochs):\n",
    "          loss_model = 0\n",
    "          for batch in batches:\n",
    "            sentence_vectors, polarities = zip(*batch)\n",
    "            sentence_vectors = torch.stack(sentence_vectors).to(device)\n",
    "            polarities = torch.stack(polarities).to(device)\n",
    "\n",
    "            outputs, attention_weights = model_c_sww(sentence_vectors)\n",
    "            loss = criterion(outputs, polarities)\n",
    "            loss_model += loss.item()\n",
    "\n",
    "            optimizer.zero_grad()\n",
    "            loss.backward()\n",
    "            optimizer.step()\n",
    "        v_batches = model_1_batches(val_corpus_c_sww, batch_size, max_len)\n",
    "        model_c_sww.eval()\n",
    "        with torch.no_grad():\n",
    "          correct = 0\n",
    "          total = 0\n",
    "          for batch in v_batches:\n",
    "            sentence_vectors, polarities = zip(*batch)\n",
    "            sentence_vectors = torch.stack(sentence_vectors).to(device)\n",
    "            polarities = torch.stack(polarities).to(device)\n",
    "\n",
    "            outputs, attention_weights = model_c_sww(sentence_vectors)\n",
    "            _, predicted = torch.max(outputs.data, 1)\n",
    "            total += polarities.size(0)\n",
    "            correct += (predicted == polarities).sum().item()\n",
    "\n",
    "          accuracy = 100 * correct / total\n",
    "          print(f'Layers: {num_layers}, Learning rate: {learning_rate}, hidden size: {hidden_size}, Dropout: {dropout}, Accuracy: {accuracy:.4f}')\n",
    "      print()"
   ]
  },
  {
   "cell_type": "markdown",
   "metadata": {
    "id": "LVLzR0LDRP0o"
   },
   "source": [
    "## Final models\n",
    "\n",
    "Using hyperparameters selected after tuning"
   ]
  },
  {
   "cell_type": "markdown",
   "metadata": {
    "id": "yCexZcI2RUdU"
   },
   "source": [
    "### Bi-LSTM Varient-1"
   ]
  },
  {
   "cell_type": "code",
   "execution_count": null,
   "metadata": {
    "id": "RPNVl25GRSqN"
   },
   "outputs": [],
   "source": [
    "import torch\n",
    "import torch.nn as nn\n",
    "import torch.optim as optim\n",
    "\n",
    "# Define the BiLSTM model\n",
    "class BiLSTMClassifierModel1(nn.Module):\n",
    "    def __init__(self, input_size, hidden_size, num_layers, dropout, num_classes):\n",
    "        super(BiLSTMClassifierModel1, self).__init__()\n",
    "        self.hidden_size = hidden_size\n",
    "        self.num_layers = num_layers\n",
    "        self.dropout = dropout\n",
    "        self.lstm = nn.LSTM(input_size, hidden_size, num_layers, dropout=self.dropout, batch_first =True, bidirectional=True)\n",
    "        self.fc = nn.Linear(2*hidden_size,num_classes)\n",
    "\n",
    "\n",
    "    def forward(self, x):\n",
    "        x,(h_n,c_n) = self.lstm(x)\n",
    "        hidden_out = torch.cat((h_n[2,:,:],h_n[3,:,:]),1)\n",
    "        output = self.fc(hidden_out)\n",
    "        return(output)"
   ]
  },
  {
   "cell_type": "code",
   "execution_count": 242,
   "metadata": {
    "colab": {
     "base_uri": "https://localhost:8080/"
    },
    "id": "Dyynvd4It1lg",
    "outputId": "edb2c131-0da3-49f8-b198-5be12b473541"
   },
   "outputs": [
    {
     "name": "stdout",
     "output_type": "stream",
     "text": [
      "Epoch [1/20], Loss: 28.9137\n",
      "Epoch [2/20], Loss: 25.3022\n",
      "Epoch [3/20], Loss: 23.6056\n",
      "Epoch [4/20], Loss: 22.6999\n",
      "Epoch [5/20], Loss: 21.7496\n",
      "Epoch [6/20], Loss: 20.8045\n",
      "Epoch [7/20], Loss: 21.1444\n",
      "Epoch [8/20], Loss: 21.8652\n",
      "Epoch [9/20], Loss: 19.9216\n",
      "Epoch [10/20], Loss: 18.7877\n",
      "Epoch [11/20], Loss: 17.0535\n",
      "Epoch [12/20], Loss: 15.9630\n",
      "Epoch [13/20], Loss: 15.1543\n",
      "Epoch [14/20], Loss: 14.5930\n",
      "Epoch [15/20], Loss: 14.4215\n",
      "Epoch [16/20], Loss: 13.4263\n",
      "Epoch [17/20], Loss: 12.4576\n",
      "Epoch [18/20], Loss: 12.2135\n",
      "Epoch [19/20], Loss: 13.5794\n",
      "Epoch [20/20], Loss: 12.2847\n",
      "Train Accuracy: 86.83%\n"
     ]
    }
   ],
   "source": [
    "# Set device\n",
    "device = torch.device('cuda' if torch.cuda.is_available() else 'cpu')\n",
    "\n",
    "# Hyperparameters\n",
    "input_size = 50\n",
    "hidden_size = 128\n",
    "num_layers = 2\n",
    "num_classes = 3\n",
    "batch_size = 256\n",
    "num_epochs = 20\n",
    "learning_rate = 0.01\n",
    "dropout=0.5\n",
    "\n",
    "# Batch Creation\n",
    "max_len = 70\n",
    "batches = model_1_batches(train_corpus_c_sww, batch_size, max_len)\n",
    "\n",
    "model_1_c_sww = BiLSTMClassifierModel1(input_size, hidden_size, num_layers, dropout, num_classes).to(device)\n",
    "\n",
    "# Loss and optimizer\n",
    "criterion = nn.CrossEntropyLoss()\n",
    "optimizer = optim.Adam(model_1_c_sww.parameters(), lr=learning_rate)\n",
    "\n",
    "# Train the model\n",
    "for epoch in range(num_epochs):\n",
    "    train_loss = 0\n",
    "    for batch in batches:\n",
    "        sentence_vectors, polarities = zip(*batch)\n",
    "        sentence_vectors = torch.stack(sentence_vectors).to(device)\n",
    "        polarities = torch.stack(polarities).to(device)\n",
    "        model_1_c_sww.train()\n",
    "        optimizer.zero_grad()\n",
    "        outputs = model_1_c_sww(sentence_vectors)\n",
    "        loss = criterion(outputs, polarities)\n",
    "\n",
    "        loss.backward()\n",
    "        optimizer.step()\n",
    "\n",
    "        train_loss += loss.item()\n",
    "    print(f'Epoch [{epoch+1}/{num_epochs}], Loss: {train_loss:.4f}')\n",
    "\n",
    "model_1_c_sww.eval()\n",
    "with torch.no_grad():\n",
    "  correct=0\n",
    "  total=0\n",
    "  for batch in batches:\n",
    "    sentence_vectors, polarities = zip(*batch)\n",
    "    sentence_vectors = torch.stack(sentence_vectors).to(device)\n",
    "    polarities = torch.stack(polarities).to(device)\n",
    "\n",
    "    outputs = model_1_c_sww(sentence_vectors)\n",
    "    _, predicted = torch.max(outputs.data, 1)\n",
    "    total += polarities.size(0)\n",
    "    correct += (predicted == polarities).sum().item()\n",
    "  accuracy = 100 * correct / total\n",
    "  print(f'Train Accuracy: {accuracy:.2f}%')"
   ]
  },
  {
   "cell_type": "code",
   "execution_count": null,
   "metadata": {
    "colab": {
     "base_uri": "https://localhost:8080/"
    },
    "id": "tYs12SkArlge",
    "outputId": "142bbe2b-4afe-4a1a-a939-d214d338a404"
   },
   "outputs": [
    {
     "name": "stdout",
     "output_type": "stream",
     "text": [
      "[[1.4856434e-01 7.8681228e-04 8.5064882e-01]]\n"
     ]
    }
   ],
   "source": [
    "data = test_corpus_c_sww\n",
    "sentence = data[51][0]\n",
    "aspect = data[51][1]\n",
    "polarity = data[51][2]\n",
    "\n",
    "embedding_list = []\n",
    "word_list = []  # Store the words in the sentence\n",
    "\n",
    "for word in sentence:\n",
    "    if str(word) in word_vectors:\n",
    "        embedding_list.append(word_vectors[word])\n",
    "        word_list.append(word)  # Append the word to the word_list\n",
    "    else:\n",
    "        embedding_list.append(np.zeros(50))\n",
    "        word_list.append(word)  # Append the word to the word_list\n",
    "\n",
    "embedding_list.append(word_vectors[aspect])\n",
    "word_list.append(aspect)  # Append the aspect to the word_list\n",
    "\n",
    "# Pad the embedding_list to max_len\n",
    "padding_length = max_len - len(embedding_list)\n",
    "embedding_list.extend([np.zeros(50)] * padding_length)\n",
    "word_list.extend([''] * padding_length)  # Pad word_list with empty strings\n",
    "\n",
    "batch = []\n",
    "polarity_map = {'positive': 0, 'neutral': 1, 'negative': 2}\n",
    "sentence_vectors = torch.tensor(embedding_list, dtype=torch.float32)\n",
    "polarity = torch.tensor(polarity_map[polarity], dtype=torch.long)\n",
    "batch.append((sentence_vectors, polarity))\n",
    "\n",
    "model_1_c_sww.eval()\n",
    "\n",
    "with torch.no_grad():\n",
    "    # probabilities = []\n",
    "\n",
    "    inputs, labels = zip(*batch)\n",
    "    inputs = torch.stack(inputs).to(device)\n",
    "    labels = torch.stack(labels).to(device)\n",
    "\n",
    "    outputs = model_1_c_sww(inputs)\n",
    "    probs = torch.softmax(outputs, dim=1)\n",
    "    probabilities = probs.cpu().numpy()\n",
    "\n",
    "print(probabilities)"
   ]
  },
  {
   "cell_type": "markdown",
   "metadata": {
    "id": "QXEeFOk2UF3V"
   },
   "source": [
    "### Bi-LSTM Varient-2"
   ]
  },
  {
   "cell_type": "code",
   "execution_count": 262,
   "metadata": {
    "id": "-qnHSGphUK0N"
   },
   "outputs": [],
   "source": [
    "import torch\n",
    "import torch.nn as nn\n",
    "import torch.optim as optim\n",
    "\n",
    "# Define the BiLSTM model\n",
    "class BiLSTMClassifierModel2(nn.Module):\n",
    "    def __init__(self, input_size, hidden_size, num_layers, dropout, num_classes):\n",
    "        super(BiLSTMClassifierModel2, self).__init__()\n",
    "        self.hidden_size = hidden_size\n",
    "        self.num_layers = num_layers\n",
    "        self.dropout = dropout\n",
    "        self.lstm = nn.LSTM(input_size, hidden_size, num_layers, dropout=self.dropout, batch_first=True, bidirectional=True)\n",
    "        self.fc = nn.Linear(hidden_size * 2 + input_size, num_classes)\n",
    "\n",
    "    def forward(self, sentence, aspect):\n",
    "        _, (hidden, _) = self.lstm(sentence)\n",
    "        hidden = torch.cat((hidden[-2, :, :], hidden[-1, :, :]), dim=1)\n",
    "        output = torch.cat((hidden, aspect), dim=1)\n",
    "        output = self.fc(output)\n",
    "        return output"
   ]
  },
  {
   "cell_type": "code",
   "execution_count": 263,
   "metadata": {
    "colab": {
     "base_uri": "https://localhost:8080/"
    },
    "id": "GwnYJsIUUXl9",
    "outputId": "32d4bae6-49dc-4b4e-f2b1-dca30c5737ab"
   },
   "outputs": [
    {
     "name": "stdout",
     "output_type": "stream",
     "text": [
      "Epoch [1/20], Loss: 26.0158\n",
      "Epoch [2/20], Loss: 24.0401\n",
      "Epoch [3/20], Loss: 22.9765\n",
      "Epoch [4/20], Loss: 22.4440\n",
      "Epoch [5/20], Loss: 21.8760\n",
      "Epoch [6/20], Loss: 20.9447\n",
      "Epoch [7/20], Loss: 20.4610\n",
      "Epoch [8/20], Loss: 20.3974\n",
      "Epoch [9/20], Loss: 19.6621\n",
      "Epoch [10/20], Loss: 19.0964\n",
      "Epoch [11/20], Loss: 18.2859\n",
      "Epoch [12/20], Loss: 17.8752\n",
      "Epoch [13/20], Loss: 18.0879\n",
      "Epoch [14/20], Loss: 18.1414\n",
      "Epoch [15/20], Loss: 18.2550\n",
      "Epoch [16/20], Loss: 17.3158\n",
      "Epoch [17/20], Loss: 16.8042\n",
      "Epoch [18/20], Loss: 16.6171\n",
      "Epoch [19/20], Loss: 16.2494\n",
      "Epoch [20/20], Loss: 16.0966\n",
      "Train Accuracy: 74.96%\n"
     ]
    }
   ],
   "source": [
    "# Set device\n",
    "device = torch.device('cuda' if torch.cuda.is_available() else 'cpu')\n",
    "\n",
    "# Hyperparameters\n",
    "input_size = 50\n",
    "hidden_size = 128\n",
    "num_layers = 2\n",
    "num_classes = 3\n",
    "batch_size = 256\n",
    "num_epochs = 20\n",
    "learning_rate = 0.01\n",
    "dropout=0.5\n",
    "\n",
    "# Create batches\n",
    "max_len = 70\n",
    "batches = model_2_batches(train_corpus_c_sww,batch_size, max_len)\n",
    "\n",
    "# Initialize the model\n",
    "model_2_c_sww = BiLSTMClassifierModel2(input_size, hidden_size, num_layers, dropout, num_classes).to(device)\n",
    "\n",
    "# Loss and optimizer\n",
    "criterion = nn.CrossEntropyLoss()\n",
    "optimizer = optim.Adam(model_2_c_sww.parameters(), lr=learning_rate)\n",
    "\n",
    "# Train the model\n",
    "for epoch in range(num_epochs):\n",
    "    train_loss = 0\n",
    "    for batch in batches:\n",
    "        sentence_vectors, aspect_vectors, polarities = zip(*batch)\n",
    "        sentence_vectors = torch.stack(sentence_vectors).to(device)\n",
    "        aspect_vectors = torch.stack(aspect_vectors).to(device)\n",
    "        polarities = torch.stack(polarities).to(device)\n",
    "\n",
    "        model_2_c_sww.train()\n",
    "        optimizer.zero_grad()\n",
    "\n",
    "        outputs = model_2_c_sww(sentence_vectors, aspect_vectors)\n",
    "        loss = criterion(outputs, polarities)\n",
    "\n",
    "\n",
    "        loss.backward()\n",
    "        optimizer.step()\n",
    "\n",
    "        train_loss += loss.item()\n",
    "\n",
    "    print(f'Epoch [{epoch+1}/{num_epochs}], Loss: {train_loss:.4f}')\n",
    "\n",
    "# Evaluate the model on the test set after training\n",
    "model_2_c_sww.eval()\n",
    "with torch.no_grad():\n",
    "    correct = 0\n",
    "    total = 0\n",
    "    for batch in batches:\n",
    "        sentence_vectors, aspect_vectors, polarities = zip(*batch)\n",
    "        sentence_vectors = torch.stack(sentence_vectors).to(device)\n",
    "        aspect_vectors = torch.stack(aspect_vectors).to(device)\n",
    "        polarities = torch.stack(polarities).to(device)\n",
    "\n",
    "        outputs = model_2_c_sww(sentence_vectors, aspect_vectors)\n",
    "        _, predicted = torch.max(outputs.data, 1)\n",
    "        total += polarities.size(0)\n",
    "        correct += (predicted == polarities).sum().item()\n",
    "\n",
    "    accuracy = 100 * correct / total\n",
    "    print(f'Train Accuracy: {accuracy:.2f}%')"
   ]
  },
  {
   "cell_type": "markdown",
   "metadata": {
    "id": "rxbYFyGGWMkN"
   },
   "source": [
    "### Attention Model"
   ]
  },
  {
   "cell_type": "code",
   "execution_count": 310,
   "metadata": {
    "id": "LsIDqygYU7ld"
   },
   "outputs": [],
   "source": [
    "import torch\n",
    "import torch.nn as nn\n",
    "import torch.optim as optim\n",
    "import torch.nn.functional as F\n",
    "\n",
    "# Define the Attention model\n",
    "class Attention(nn.Module):\n",
    "    def __init__(self, hidden_dim):\n",
    "        super().__init__()\n",
    "        self.attn = nn.Linear(hidden_dim, 6, bias=False)\n",
    "        self.attn1 = nn.Linear(6*70, 70, bias=False)\n",
    "\n",
    "    def forward(self, lstm_output):\n",
    "        # lstm_output = [batch size, seq_len, hidden_dim]\n",
    "        attention_scores = self.attn(lstm_output)\n",
    "        # attention_scores = [batch size, seq_len, 6]\n",
    "        attention_scores = attention_scores.reshape(attention_scores.size(0), -1)\n",
    "        # attention_scores = [batch size, seq_len * 6]\n",
    "        attention_scores1 = self.attn1(attention_scores)\n",
    "        # attention_scores1 = [batch size, 50]\n",
    "        return F.softmax(attention_scores1, dim=1)\n",
    "\n",
    "# Define the BiLSTM with Attention model\n",
    "class BiLSTMClassifierWithAttention(nn.Module):\n",
    "    def __init__(self, input_size, hidden_size, num_layers, dropout, num_classes, bidirectional=True):\n",
    "        super(BiLSTMClassifierWithAttention, self).__init__()\n",
    "        self.hidden_size = hidden_size\n",
    "        self.num_layers = num_layers\n",
    "        self.bidirectional = bidirectional\n",
    "        self.dropout = dropout\n",
    "        self.lstm = nn.LSTM(input_size, hidden_size, num_layers, dropout=self.dropout, batch_first=True, bidirectional=bidirectional)\n",
    "        self.attention = Attention(hidden_size * 2 if bidirectional else hidden_size)\n",
    "        self.fc = nn.Sequential(\n",
    "            nn.Linear(hidden_size * 2 if bidirectional else hidden_size, hidden_size),\n",
    "            nn.ReLU(),\n",
    "            nn.Linear(hidden_size, num_classes),\n",
    "        )\n",
    "\n",
    "    def forward(self, x):\n",
    "        h0 = torch.zeros(self.num_layers * 2 if self.bidirectional else self.num_layers, x.size(0), self.hidden_size).to(x.device)\n",
    "        c0 = torch.zeros(self.num_layers * 2 if self.bidirectional else self.num_layers, x.size(0), self.hidden_size).to(x.device)\n",
    "        lstm_output, (hidden, _) = self.lstm(x, (h0, c0))\n",
    "        attention_weights = self.attention(lstm_output)\n",
    "        attention_weights = attention_weights.unsqueeze(2)\n",
    "        weighted = lstm_output * attention_weights\n",
    "        weighted_sum = weighted.sum(dim=1)\n",
    "        out = self.fc(weighted_sum)\n",
    "        return out, attention_weights.squeeze(2)\n",
    "# Set device\n",
    "device = torch.device('cuda' if torch.cuda.is_available() else 'cpu')"
   ]
  },
  {
   "cell_type": "code",
   "execution_count": 311,
   "metadata": {
    "colab": {
     "base_uri": "https://localhost:8080/"
    },
    "id": "g7eIAHp_WStm",
    "outputId": "931ec72a-cb03-47c3-d84b-72fbf2e14ecd"
   },
   "outputs": [
    {
     "name": "stdout",
     "output_type": "stream",
     "text": [
      "Epoch [1/20], Loss: 29.7559\n",
      "Epoch [2/20], Loss: 25.3015\n",
      "Epoch [3/20], Loss: 24.2526\n",
      "Epoch [4/20], Loss: 22.7004\n",
      "Epoch [5/20], Loss: 21.5958\n",
      "Epoch [6/20], Loss: 20.3563\n",
      "Epoch [7/20], Loss: 18.6652\n",
      "Epoch [8/20], Loss: 17.6790\n",
      "Epoch [9/20], Loss: 17.3212\n",
      "Epoch [10/20], Loss: 16.3397\n",
      "Epoch [11/20], Loss: 14.2315\n",
      "Epoch [12/20], Loss: 11.3497\n",
      "Epoch [13/20], Loss: 11.0165\n",
      "Epoch [14/20], Loss: 10.7412\n",
      "Epoch [15/20], Loss: 9.5820\n",
      "Epoch [16/20], Loss: 7.3028\n",
      "Epoch [17/20], Loss: 8.1856\n",
      "Epoch [18/20], Loss: 7.4596\n",
      "Epoch [19/20], Loss: 5.7055\n",
      "Epoch [20/20], Loss: 5.6769\n",
      "Train Accuracy: 95.42%\n"
     ]
    }
   ],
   "source": [
    "# Hyperparameters\n",
    "input_size = 50\n",
    "hidden_size = 128\n",
    "num_layers = 2\n",
    "num_classes = 3\n",
    "batch_size = 256\n",
    "num_epochs = 20\n",
    "learning_rate = 0.01\n",
    "dropout=0.05\n",
    "\n",
    "# Batch Creation\n",
    "max_len = 70 # This is not actual max length, change input_size if you change max_len.\n",
    "batches = model_1_batches(train_corpus_c_sww, batch_size, max_len)\n",
    "\n",
    "model_c_sww = BiLSTMClassifierWithAttention(input_size, hidden_size, num_layers, dropout, num_classes).to(device)\n",
    "\n",
    "# Loss and optimizer\n",
    "criterion = nn.CrossEntropyLoss()\n",
    "optimizer = optim.Adam(model_c_sww.parameters(), lr=learning_rate)\n",
    "\n",
    "# Train the model\n",
    "for epoch in range(num_epochs):\n",
    "    loss_model = 0\n",
    "    for batch in batches:\n",
    "        sentence_vectors, polarities = zip(*batch)\n",
    "        sentence_vectors = torch.stack(sentence_vectors).to(device)\n",
    "        polarities = torch.stack(polarities).to(device)\n",
    "\n",
    "        outputs, attention_weights = model_c_sww(sentence_vectors)\n",
    "        loss = criterion(outputs, polarities)\n",
    "        loss_model +=loss.item()\n",
    "        optimizer.zero_grad()\n",
    "        loss.backward()\n",
    "        optimizer.step()\n",
    "\n",
    "    print(f'Epoch [{epoch+1}/{num_epochs}], Loss: {loss_model:.4f}')\n",
    "\n",
    "model_c_sww.eval()\n",
    "with torch.no_grad():\n",
    "    correct = 0\n",
    "    total = 0\n",
    "    for batch in batches:\n",
    "        sentence_vectors, polarities = zip(*batch)\n",
    "        sentence_vectors = torch.stack(sentence_vectors).to(device)\n",
    "        polarities = torch.stack(polarities).to(device)\n",
    "        outputs, attention_weights = model_c_sww(sentence_vectors)\n",
    "        _, predicted = torch.max(outputs.data, 1)\n",
    "        total += polarities.size(0)\n",
    "        correct += (predicted == polarities).sum().item()\n",
    "    accuracy = 100 * correct / total\n",
    "    print(f'Train Accuracy: {accuracy:.2f}%')"
   ]
  },
  {
   "cell_type": "markdown",
   "metadata": {
    "id": "8OTGbrOq5Dw_"
   },
   "source": [
    "## Ablation Study"
   ]
  },
  {
   "cell_type": "markdown",
   "metadata": {
    "id": "H17baCev6nSi"
   },
   "source": [
    "### Bi-RNN"
   ]
  },
  {
   "cell_type": "code",
   "execution_count": 252,
   "metadata": {
    "colab": {
     "base_uri": "https://localhost:8080/"
    },
    "id": "7gfEGdgT5Fu4",
    "outputId": "04c83421-b9f3-49a9-b6e7-af66f74b268d"
   },
   "outputs": [
    {
     "name": "stdout",
     "output_type": "stream",
     "text": [
      "Epoch [1/20], Loss: 29.2215\n",
      "Epoch [2/20], Loss: 26.3207\n",
      "Epoch [3/20], Loss: 24.8450\n",
      "Epoch [4/20], Loss: 24.3356\n",
      "Epoch [5/20], Loss: 24.1349\n",
      "Epoch [6/20], Loss: 23.5552\n",
      "Epoch [7/20], Loss: 22.8603\n",
      "Epoch [8/20], Loss: 22.5607\n",
      "Epoch [9/20], Loss: 21.8998\n",
      "Epoch [10/20], Loss: 21.7747\n",
      "Epoch [11/20], Loss: 21.3539\n",
      "Epoch [12/20], Loss: 20.7929\n",
      "Epoch [13/20], Loss: 20.2869\n",
      "Epoch [14/20], Loss: 19.8432\n",
      "Epoch [15/20], Loss: 19.3274\n",
      "Epoch [16/20], Loss: 19.0057\n",
      "Epoch [17/20], Loss: 18.7914\n",
      "Epoch [18/20], Loss: 18.3500\n",
      "Epoch [19/20], Loss: 17.7715\n",
      "Epoch [20/20], Loss: 17.2484\n",
      "Train Accuracy: 72.91%\n"
     ]
    }
   ],
   "source": [
    "# Define the Attention model\n",
    "class Attention(nn.Module):\n",
    "    def __init__(self, hidden_dim):\n",
    "        super().__init__()\n",
    "        self.attn = nn.Linear(hidden_dim, 6, bias=False)\n",
    "        self.attn1 = nn.Linear(6*70, 70, bias=False)\n",
    "\n",
    "    def forward(self, rnn_output):\n",
    "        # lstm_output = [batch size, seq_len, hidden_dim]\n",
    "        attention_scores = self.attn(rnn_output)\n",
    "        # attention_scores = [batch size, seq_len, 6]\n",
    "        attention_scores = attention_scores.reshape(attention_scores.size(0), -1)\n",
    "        # attention_scores = [batch size, seq_len * 6]\n",
    "        #print(attention_scores.shape)\n",
    "        attention_scores1 = self.attn1(attention_scores)\n",
    "        # attention_scores1 = [batch size, 50]\n",
    "        return F.softmax(attention_scores1, dim=1)\n",
    "\n",
    "# Define the BiLSTM with Attention model\n",
    "class BiRNNClassifierWithAttention(nn.Module):\n",
    "    def __init__(self, input_size, hidden_size, num_layers, num_classes, bidirectional=True):\n",
    "        super(BiRNNClassifierWithAttention, self).__init__()\n",
    "        self.hidden_size = hidden_size\n",
    "        self.num_layers = num_layers\n",
    "        self.bidirectional = bidirectional\n",
    "        self.rnn = nn.RNN(input_size, hidden_size, num_layers, batch_first=True, bidirectional=bidirectional)\n",
    "        self.attention = Attention(hidden_size * 2 if bidirectional else hidden_size)\n",
    "        self.fc = nn.Sequential(\n",
    "            nn.Linear(hidden_size * 2 if bidirectional else hidden_size, hidden_size),\n",
    "            nn.ReLU(),\n",
    "            nn.Linear(hidden_size, num_classes),\n",
    "        )\n",
    "\n",
    "    def forward(self, x):\n",
    "        h0 = torch.zeros(self.num_layers * 2 if self.bidirectional else self.num_layers, x.size(0), self.hidden_size).to(x.device)\n",
    "\n",
    "        rnn_output, h_n = self.rnn(x, h0)\n",
    "        attention_weights = self.attention(rnn_output)\n",
    "        attention_weights = attention_weights.unsqueeze(2)\n",
    "        weighted = rnn_output * attention_weights\n",
    "        weighted_sum = weighted.sum(dim=1)\n",
    "        out = self.fc(weighted_sum)\n",
    "        return out, attention_weights.squeeze(2)\n",
    "# Set device\n",
    "device = torch.device('cuda' if torch.cuda.is_available() else 'cpu')\n",
    "\n",
    "# Hyperparameters\n",
    "input_size = 50\n",
    "hidden_size = 256\n",
    "num_layers = 2\n",
    "num_classes = 3\n",
    "batch_size = 256\n",
    "num_epochs = 20\n",
    "learning_rate = 0.001\n",
    "\n",
    "# Batch Creation\n",
    "max_len = 70 # This is not actual max length, change input_size if you change max_len.\n",
    "batches = model_1_batches(train_corpus_c_sww, batch_size, max_len)\n",
    "\n",
    "model_rnn_sww = BiRNNClassifierWithAttention(input_size, hidden_size, num_layers, num_classes).to(device)\n",
    "\n",
    "# Loss and optimizer\n",
    "criterion = nn.CrossEntropyLoss()\n",
    "optimizer = optim.Adam(model_rnn_sww.parameters(), lr=learning_rate)\n",
    "\n",
    "# Train the model\n",
    "for epoch in range(num_epochs):\n",
    "    loss_model = 0\n",
    "    for batch in batches:\n",
    "        sentence_vectors, polarities = zip(*batch)\n",
    "        sentence_vectors = torch.stack(sentence_vectors).to(device)\n",
    "        polarities = torch.stack(polarities).to(device)\n",
    "\n",
    "        outputs, attention_weights = model_rnn_sww(sentence_vectors)\n",
    "        loss = criterion(outputs, polarities)\n",
    "        loss_model +=loss.item()\n",
    "        optimizer.zero_grad()\n",
    "        loss.backward()\n",
    "        optimizer.step()\n",
    "\n",
    "    print(f'Epoch [{epoch+1}/{num_epochs}], Loss: {loss_model:.4f}')\n",
    "\n",
    "model_rnn_sww.eval()\n",
    "with torch.no_grad():\n",
    "    correct = 0\n",
    "    total = 0\n",
    "    for batch in batches:\n",
    "        sentence_vectors, polarities = zip(*batch)\n",
    "        sentence_vectors = torch.stack(sentence_vectors).to(device)\n",
    "        polarities = torch.stack(polarities).to(device)\n",
    "        outputs, attention_weights = model_rnn_sww(sentence_vectors)\n",
    "        _, predicted = torch.max(outputs.data, 1)\n",
    "        total += polarities.size(0)\n",
    "        correct += (predicted == polarities).sum().item()\n",
    "    accuracy = 100 * correct / total\n",
    "    print(f'Train Accuracy: {accuracy:.2f}%')"
   ]
  },
  {
   "cell_type": "code",
   "execution_count": 254,
   "metadata": {
    "colab": {
     "base_uri": "https://localhost:8080/"
    },
    "id": "PyR4LZGX2ar7",
    "outputId": "005bb0fa-b442-45d6-f2f5-200f7b5cc693"
   },
   "outputs": [
    {
     "name": "stdout",
     "output_type": "stream",
     "text": [
      "Test Accuracy: 59.49%\n"
     ]
    }
   ],
   "source": [
    "model_rnn_sww.eval()\n",
    "with torch.no_grad():\n",
    "    correct = 0\n",
    "    total = 0\n",
    "    batches = model_1_batches(test_corpus_c_sww, batch_size, max_len)\n",
    "    for batch in batches:\n",
    "        sentence_vectors, polarities = zip(*batch)\n",
    "        sentence_vectors = torch.stack(sentence_vectors).to(device)\n",
    "        polarities = torch.stack(polarities).to(device)\n",
    "        outputs, attention_weights = model_rnn_sww(sentence_vectors)\n",
    "        _, predicted = torch.max(outputs.data, 1)\n",
    "        total += polarities.size(0)\n",
    "        correct += (predicted == polarities).sum().item()\n",
    "    accuracy = 100 * correct / total\n",
    "    print(f'Test Accuracy: {accuracy:.2f}%')"
   ]
  },
  {
   "cell_type": "markdown",
   "metadata": {
    "id": "O5EBIToOAB1k"
   },
   "source": [
    "### Bi-GRU"
   ]
  },
  {
   "cell_type": "code",
   "execution_count": 255,
   "metadata": {
    "colab": {
     "base_uri": "https://localhost:8080/"
    },
    "id": "aR3oSFLsAEo8",
    "outputId": "d6ac992d-da15-483a-d0a1-e1ac96def6e0"
   },
   "outputs": [
    {
     "name": "stdout",
     "output_type": "stream",
     "text": [
      "Epoch [1/20], Loss: 28.7539\n",
      "Epoch [2/20], Loss: 25.0442\n",
      "Epoch [3/20], Loss: 23.6502\n",
      "Epoch [4/20], Loss: 22.9575\n",
      "Epoch [5/20], Loss: 22.5102\n",
      "Epoch [6/20], Loss: 21.9780\n",
      "Epoch [7/20], Loss: 21.4944\n",
      "Epoch [8/20], Loss: 21.0277\n",
      "Epoch [9/20], Loss: 20.4423\n",
      "Epoch [10/20], Loss: 19.6973\n",
      "Epoch [11/20], Loss: 18.8277\n",
      "Epoch [12/20], Loss: 17.9179\n",
      "Epoch [13/20], Loss: 17.0076\n",
      "Epoch [14/20], Loss: 16.0141\n",
      "Epoch [15/20], Loss: 16.0173\n",
      "Epoch [16/20], Loss: 16.3605\n",
      "Epoch [17/20], Loss: 14.6974\n",
      "Epoch [18/20], Loss: 13.3278\n",
      "Epoch [19/20], Loss: 11.9828\n",
      "Epoch [20/20], Loss: 10.9028\n",
      "Train Accuracy: 86.90%\n"
     ]
    }
   ],
   "source": [
    "class Attention(nn.Module):\n",
    "    def __init__(self, hidden_dim):\n",
    "        super().__init__()\n",
    "        self.attn = nn.Linear(hidden_dim, 6, bias=False)\n",
    "        self.attn1 = nn.Linear(6*70, 70, bias=False)\n",
    "\n",
    "    def forward(self, output):\n",
    "        # lstm_output = [batch size, seq_len, hidden_dim]\n",
    "        attention_scores = self.attn(output)\n",
    "        # attention_scores = [batch size, seq_len, 6]\n",
    "        attention_scores = attention_scores.reshape(attention_scores.size(0), -1)\n",
    "        # attention_scores = [batch size, seq_len * 6]\n",
    "        #print(attention_scores.shape)\n",
    "        attention_scores1 = self.attn1(attention_scores)\n",
    "        # attention_scores1 = [batch size, 50]\n",
    "        return F.softmax(attention_scores1, dim=1)\n",
    "\n",
    "# Define the BiLSTM with Attention model\n",
    "class BiGRUClassifierWithAttention(nn.Module):\n",
    "    def __init__(self, input_size, hidden_size, num_layers, num_classes, bidirectional=True):\n",
    "        super(BiGRUClassifierWithAttention, self).__init__()\n",
    "        self.hidden_size = hidden_size\n",
    "        self.num_layers = num_layers\n",
    "        self.bidirectional = bidirectional\n",
    "        self.gru = nn.GRU(input_size, hidden_size, num_layers, batch_first=True, bidirectional=bidirectional)\n",
    "        self.attention = Attention(hidden_size * 2 if bidirectional else hidden_size)\n",
    "        self.fc = nn.Sequential(\n",
    "            nn.Linear(hidden_size * 2 if bidirectional else hidden_size, hidden_size),\n",
    "            nn.ReLU(),\n",
    "            nn.Linear(hidden_size, num_classes),\n",
    "        )\n",
    "\n",
    "    def forward(self, x):\n",
    "        h0 = torch.zeros(self.num_layers * 2 if self.bidirectional else self.num_layers, x.size(0), self.hidden_size).to(x.device)\n",
    "\n",
    "        gru_output, h_n = self.gru(x, h0)\n",
    "        attention_weights = self.attention(gru_output)\n",
    "        attention_weights = attention_weights.unsqueeze(2)\n",
    "        weighted = gru_output * attention_weights\n",
    "        weighted_sum = weighted.sum(dim=1)\n",
    "        out = self.fc(weighted_sum)\n",
    "        return out, attention_weights.squeeze(2)\n",
    "# Set device\n",
    "device = torch.device('cuda' if torch.cuda.is_available() else 'cpu')\n",
    "\n",
    "# Hyperparameters\n",
    "input_size = 50\n",
    "hidden_size = 256\n",
    "num_layers = 2\n",
    "num_classes = 3\n",
    "batch_size = 256\n",
    "num_epochs = 20\n",
    "learning_rate = 0.001\n",
    "\n",
    "# Batch Creation\n",
    "max_len = 70\n",
    "batches = model_1_batches(train_corpus_c_sww, batch_size, max_len)\n",
    "\n",
    "model_gru_sww = BiGRUClassifierWithAttention(input_size, hidden_size, num_layers, num_classes).to(device)\n",
    "\n",
    "# Loss and optimizer\n",
    "criterion = nn.CrossEntropyLoss()\n",
    "optimizer = optim.Adam(model_gru_sww.parameters(), lr=learning_rate)\n",
    "\n",
    "# Train the model\n",
    "for epoch in range(num_epochs):\n",
    "    loss_model = 0\n",
    "    for batch in batches:\n",
    "        sentence_vectors, polarities = zip(*batch)\n",
    "        sentence_vectors = torch.stack(sentence_vectors).to(device)\n",
    "        polarities = torch.stack(polarities).to(device)\n",
    "\n",
    "        outputs, attention_weights = model_gru_sww(sentence_vectors)\n",
    "        loss = criterion(outputs, polarities)\n",
    "        loss_model +=loss.item()\n",
    "        optimizer.zero_grad()\n",
    "        loss.backward()\n",
    "        optimizer.step()\n",
    "\n",
    "    print(f'Epoch [{epoch+1}/{num_epochs}], Loss: {loss_model:.4f}')\n",
    "\n",
    "model_gru_sww.eval()\n",
    "with torch.no_grad():\n",
    "    correct = 0\n",
    "    total = 0\n",
    "    for batch in batches:\n",
    "        sentence_vectors, polarities = zip(*batch)\n",
    "        sentence_vectors = torch.stack(sentence_vectors).to(device)\n",
    "        polarities = torch.stack(polarities).to(device)\n",
    "        outputs, attention_weights = model_gru_sww(sentence_vectors)\n",
    "        _, predicted = torch.max(outputs.data, 1)\n",
    "        total += polarities.size(0)\n",
    "        correct += (predicted == polarities).sum().item()\n",
    "    accuracy = 100 * correct / total\n",
    "    print(f'Train Accuracy: {accuracy:.2f}%')"
   ]
  },
  {
   "cell_type": "code",
   "execution_count": 256,
   "metadata": {
    "colab": {
     "base_uri": "https://localhost:8080/"
    },
    "id": "vqZxuBXo2_Wn",
    "outputId": "73192ccc-2a20-412f-c305-a0220c5478a5"
   },
   "outputs": [
    {
     "name": "stdout",
     "output_type": "stream",
     "text": [
      "Test Accuracy: 62.93%\n"
     ]
    }
   ],
   "source": [
    "model_gru_sww.eval()\n",
    "with torch.no_grad():\n",
    "    correct = 0\n",
    "    total = 0\n",
    "    batches = model_1_batches(test_corpus_c_sww, batch_size, max_len)\n",
    "    for batch in batches:\n",
    "        sentence_vectors, polarities = zip(*batch)\n",
    "        sentence_vectors = torch.stack(sentence_vectors).to(device)\n",
    "        polarities = torch.stack(polarities).to(device)\n",
    "        outputs, attention_weights = model_gru_sww(sentence_vectors)\n",
    "        _, predicted = torch.max(outputs.data, 1)\n",
    "        total += polarities.size(0)\n",
    "        correct += (predicted == polarities).sum().item()\n",
    "    accuracy = 100 * correct / total\n",
    "    print(f'Test Accuracy: {accuracy:.2f}%')"
   ]
  },
  {
   "cell_type": "markdown",
   "metadata": {
    "id": "0Cj0K0VGDZ2o"
   },
   "source": [
    "### Bi-RNN with attention by adding aspect with each word"
   ]
  },
  {
   "cell_type": "code",
   "execution_count": 330,
   "metadata": {
    "id": "xtydYk5nVqhl"
   },
   "outputs": [],
   "source": [
    "def model_3_batches(data, batch_size, max_len):\n",
    "    batches = []\n",
    "    polarity_map = {'positive': 0, 'neutral': 1, 'negative': 2}\n",
    "\n",
    "    for i in range(0, len(data), batch_size):\n",
    "        batch = []\n",
    "\n",
    "        for j in range(i, min(i + batch_size, len(data))):\n",
    "            sentence = data[j][0]\n",
    "            aspect = data[j][1]\n",
    "            polarity = data[j][2]\n",
    "            embedding_list = []\n",
    "            for word in sentence: # Check if word exist in pre-trained word embedding else appending zero vector\n",
    "                if str(word) in word_vectors:\n",
    "                    embedding_list.append(word_vectors[word])\n",
    "                else:\n",
    "                    embedding_list.append(np.zeros(50))\n",
    "\n",
    "            embedding_list.append(word_vectors[aspect])\n",
    "\n",
    "            for _ in range(max_len - len(embedding_list)):\n",
    "                embedding_list.append(np.zeros(50))\n",
    "\n",
    "            sentence_vectors = torch.tensor(embedding_list, dtype=torch.float32)\n",
    "            aspect_vectors = torch.tensor(word_vectors[aspect], dtype=torch.float32)\n",
    "            polarity = torch.tensor(polarity_map[polarity], dtype=torch.long)\n",
    "\n",
    "            batch.append((sentence_vectors, aspect_vectors, polarity))\n",
    "\n",
    "        batches.append(batch)\n",
    "\n",
    "    return batches"
   ]
  },
  {
   "cell_type": "code",
   "execution_count": 332,
   "metadata": {
    "colab": {
     "base_uri": "https://localhost:8080/"
    },
    "id": "-2ECL4sqKpse",
    "outputId": "3a27a8cd-3865-4e69-a4d0-a89ee85f8494"
   },
   "outputs": [
    {
     "name": "stdout",
     "output_type": "stream",
     "text": [
      "Epoch [1/20], Loss: 27.6524\n",
      "Epoch [2/20], Loss: 24.8920\n",
      "Epoch [3/20], Loss: 24.1960\n",
      "Epoch [4/20], Loss: 23.8749\n",
      "Epoch [5/20], Loss: 23.3572\n",
      "Epoch [6/20], Loss: 23.0718\n",
      "Epoch [7/20], Loss: 22.7153\n",
      "Epoch [8/20], Loss: 22.4554\n",
      "Epoch [9/20], Loss: 22.0809\n",
      "Epoch [10/20], Loss: 21.5781\n",
      "Epoch [11/20], Loss: 21.2340\n",
      "Epoch [12/20], Loss: 20.7719\n",
      "Epoch [13/20], Loss: 20.3385\n",
      "Epoch [14/20], Loss: 20.0289\n",
      "Epoch [15/20], Loss: 19.7159\n",
      "Epoch [16/20], Loss: 18.9631\n",
      "Epoch [17/20], Loss: 18.6324\n",
      "Epoch [18/20], Loss: 18.3697\n",
      "Epoch [19/20], Loss: 17.7808\n",
      "Epoch [20/20], Loss: 17.4213\n",
      "Train Accuracy: 73.95%\n"
     ]
    }
   ],
   "source": [
    "# Define the Attention model\n",
    "class Attention(nn.Module):\n",
    "    def __init__(self, hidden_dim, input_size):\n",
    "        super().__init__()\n",
    "        self.attn = nn.Linear(hidden_dim + input_size, 6, bias=False)\n",
    "        self.attn1 = nn.Linear(6 * max_len, max_len, bias=False)  # Use max_len instead of hardcoded value\n",
    "\n",
    "    def forward(self, rnn_output, aspect_vectors):\n",
    "    # lstm_output = [batch size, seq_len, hidden_dim]\n",
    "      aspect_vectors = aspect_vectors.unsqueeze(1).expand(-1, rnn_output.size(1), -1)  # Add extra dimension and expand\n",
    "\n",
    "      attention_scores = self.attn(torch.cat((rnn_output, aspect_vectors), dim=2))\n",
    "    # attention_scores = [batch size, seq_len, 6]\n",
    "      attention_scores = attention_scores.reshape(attention_scores.size(0), -1)\n",
    "    # attention_scores = [batch size, seq_len * 6]\n",
    "      attention_scores1 = self.attn1(attention_scores)\n",
    "    # attention_scores1 = [batch size, max_len]\n",
    "      return F.softmax(attention_scores1, dim=1)\n",
    "\n",
    "\n",
    "class BiRNNClassifierWithAttentionAspect(nn.Module):\n",
    "    def __init__(self, input_size, hidden_size, num_layers, num_classes, bidirectional=True):\n",
    "        super(BiRNNClassifierWithAttentionAspect, self).__init__()\n",
    "        self.hidden_size = hidden_size\n",
    "        self.num_layers = num_layers\n",
    "        self.bidirectional = bidirectional\n",
    "        self.rnn = nn.RNN(input_size, hidden_size, num_layers, batch_first=True, bidirectional=bidirectional)\n",
    "        self.attention = Attention(hidden_size * 2 if bidirectional else hidden_size, input_size)\n",
    "        self.fc = nn.Sequential(\n",
    "            nn.Linear(hidden_size * 2 if bidirectional else hidden_size, hidden_size),\n",
    "            nn.ReLU(),\n",
    "            nn.Linear(hidden_size, num_classes),\n",
    "        )\n",
    "\n",
    "    def forward(self, x, aspect_vectors):\n",
    "        h0 = torch.zeros(self.num_layers * 2 if self.bidirectional else self.num_layers, x.size(0), self.hidden_size).to(x.device)\n",
    "        rnn_output, h_n = self.rnn(x, h0)\n",
    "        attention_weights = self.attention(rnn_output, aspect_vectors)\n",
    "        attention_weights = attention_weights.unsqueeze(2)\n",
    "        weighted = rnn_output * attention_weights\n",
    "        weighted_sum = weighted.sum(dim=1)\n",
    "        out = self.fc(weighted_sum)\n",
    "        return out, attention_weights.squeeze(2)\n",
    "\n",
    "# Set device\n",
    "device = torch.device('cuda' if torch.cuda.is_available() else 'cpu')\n",
    "\n",
    "# Hyperparameters\n",
    "input_size = 50\n",
    "hidden_size = 128\n",
    "num_layers = 2\n",
    "num_classes = 3\n",
    "batch_size = 256\n",
    "num_epochs = 20\n",
    "learning_rate = 0.001\n",
    "\n",
    "# Batch Creation\n",
    "max_len = 70\n",
    "batches = model_3_batches(train_corpus_c_sww, batch_size, max_len)\n",
    "\n",
    "model_rnn_sww = BiRNNClassifierWithAttentionAspect(input_size, hidden_size, num_layers, num_classes).to(device)\n",
    "\n",
    "# Loss and optimizer\n",
    "criterion = nn.CrossEntropyLoss()\n",
    "optimizer = optim.Adam(model_rnn_sww.parameters(), lr=learning_rate)\n",
    "\n",
    "# Train the model\n",
    "for epoch in range(num_epochs):\n",
    "    loss_model = 0\n",
    "    for batch in batches:\n",
    "        sentence_vectors, aspect_vectors, polarities = zip(*batch)\n",
    "        sentence_vectors = torch.stack(sentence_vectors).to(device)\n",
    "        aspect_vectors = torch.stack(aspect_vectors).to(device)\n",
    "        polarities = torch.stack(polarities).to(device)\n",
    "\n",
    "        outputs, attention_weights = model_rnn_sww(sentence_vectors, aspect_vectors)\n",
    "        loss = criterion(outputs, polarities)\n",
    "        loss_model += loss.item()\n",
    "        optimizer.zero_grad()\n",
    "        loss.backward()\n",
    "        optimizer.step()\n",
    "\n",
    "    print(f'Epoch [{epoch+1}/{num_epochs}], Loss: {loss_model:.4f}')\n",
    "\n",
    "model_rnn_sww.eval()\n",
    "with torch.no_grad():\n",
    "    correct = 0\n",
    "    total = 0\n",
    "    for batch in batches:\n",
    "        sentence_vectors, aspect_vectors, polarities = zip(*batch)  # Add aspect_vectors\n",
    "        sentence_vectors = torch.stack(sentence_vectors).to(device)\n",
    "        aspect_vectors = torch.stack(aspect_vectors).to(device)  # Add aspect_vectors\n",
    "        polarities = torch.stack(polarities).to(device)\n",
    "        outputs, attention_weights = model_rnn_sww(sentence_vectors, aspect_vectors)  # Pass aspect_vectors\n",
    "        _, predicted = torch.max(outputs.data, 1)\n",
    "        total += polarities.size(0)\n",
    "        correct += (predicted == polarities).sum().item()\n",
    "    accuracy = 100 * correct / total\n",
    "    print(f'Train Accuracy: {accuracy:.2f}%')"
   ]
  },
  {
   "cell_type": "code",
   "execution_count": 333,
   "metadata": {
    "colab": {
     "base_uri": "https://localhost:8080/"
    },
    "id": "Fy9gX_0QgbbM",
    "outputId": "bcbd2415-a3bf-48e3-a5a1-937deb8cc67b"
   },
   "outputs": [
    {
     "name": "stdout",
     "output_type": "stream",
     "text": [
      "Test Accuracy: 57.38%\n"
     ]
    }
   ],
   "source": [
    "model_rnn_sww.eval()\n",
    "with torch.no_grad():\n",
    "    correct = 0\n",
    "    total = 0\n",
    "    batches = model_3_batches(test_corpus_c_sww, batch_size, max_len)\n",
    "    for batch in batches:\n",
    "        sentence_vectors, aspect_vectors, polarities = zip(*batch)  # Add aspect_vectors\n",
    "        sentence_vectors = torch.stack(sentence_vectors).to(device)\n",
    "        aspect_vectors = torch.stack(aspect_vectors).to(device)  # Add aspect_vectors\n",
    "        polarities = torch.stack(polarities).to(device)\n",
    "        outputs, attention_weights = model_rnn_sww(sentence_vectors, aspect_vectors)  # Pass aspect_vectors\n",
    "        _, predicted = torch.max(outputs.data, 1)\n",
    "        total += polarities.size(0)\n",
    "        correct += (predicted == polarities).sum().item()\n",
    "    accuracy = 100 * correct / total\n",
    "    print(f'Test Accuracy: {accuracy:.2f}%')"
   ]
  },
  {
   "cell_type": "markdown",
   "metadata": {
    "id": "5fYZvJHOp22e"
   },
   "source": [
    "### Bi-GRU with attention by adding aspect with each word"
   ]
  },
  {
   "cell_type": "code",
   "execution_count": 342,
   "metadata": {
    "colab": {
     "base_uri": "https://localhost:8080/"
    },
    "id": "8uGTuZlyppGv",
    "outputId": "a54370cd-c9fc-46ca-fae1-aad2005739a9"
   },
   "outputs": [
    {
     "name": "stdout",
     "output_type": "stream",
     "text": [
      "Epoch [1/20], Loss: 28.3723\n",
      "Epoch [2/20], Loss: 24.5645\n",
      "Epoch [3/20], Loss: 23.6989\n",
      "Epoch [4/20], Loss: 23.1126\n",
      "Epoch [5/20], Loss: 22.6465\n",
      "Epoch [6/20], Loss: 22.1926\n",
      "Epoch [7/20], Loss: 21.6821\n",
      "Epoch [8/20], Loss: 21.1328\n",
      "Epoch [9/20], Loss: 20.4914\n",
      "Epoch [10/20], Loss: 19.8538\n",
      "Epoch [11/20], Loss: 19.1883\n",
      "Epoch [12/20], Loss: 18.1199\n",
      "Epoch [13/20], Loss: 17.8897\n",
      "Epoch [14/20], Loss: 17.3439\n",
      "Epoch [15/20], Loss: 16.0932\n",
      "Epoch [16/20], Loss: 14.0347\n",
      "Epoch [17/20], Loss: 12.7591\n",
      "Epoch [18/20], Loss: 12.4764\n",
      "Epoch [19/20], Loss: 12.3456\n",
      "Epoch [20/20], Loss: 11.9433\n",
      "Train Accuracy: 80.94%\n"
     ]
    }
   ],
   "source": [
    "class Attention(nn.Module):\n",
    "    def __init__(self, hidden_dim, input_size):\n",
    "        super().__init__()\n",
    "        self.attn = nn.Linear(hidden_dim + input_size, 6, bias=False)\n",
    "        self.attn1 = nn.Linear(6 * max_len, max_len, bias=False)\n",
    "\n",
    "    def forward(self, output, aspect_vectors):\n",
    "        # lstm_output = [batch size, seq_len, hidden_dim]\n",
    "        aspect_vectors = aspect_vectors.unsqueeze(1).expand(-1, output.size(1), -1)\n",
    "        attention_scores = self.attn(torch.cat((output, aspect_vectors), dim=2))\n",
    "        # attention_scores = [batch size, seq_len, 6]\n",
    "        attention_scores = attention_scores.reshape(attention_scores.size(0), -1)\n",
    "        # attention_scores = [batch size, seq_len * 6]\n",
    "        #print(attention_scores.shape)\n",
    "        attention_scores1 = self.attn1(attention_scores)\n",
    "        # attention_scores1 = [batch size, 50]\n",
    "        return F.softmax(attention_scores1, dim=1)\n",
    "\n",
    "# Define the BiLSTM with Attention model\n",
    "class BiGRUClassifierWithAttention(nn.Module):\n",
    "    def __init__(self, input_size, hidden_size, num_layers, num_classes, bidirectional=True):\n",
    "        super(BiGRUClassifierWithAttention, self).__init__()\n",
    "        self.hidden_size = hidden_size\n",
    "        self.num_layers = num_layers\n",
    "        self.bidirectional = bidirectional\n",
    "        self.gru = nn.GRU(input_size, hidden_size, num_layers, batch_first=True, bidirectional=bidirectional)\n",
    "        self.attention = Attention(hidden_size * 2 if bidirectional else hidden_size, input_size)\n",
    "        self.fc = nn.Sequential(\n",
    "            nn.Linear(hidden_size * 2 if bidirectional else hidden_size, hidden_size),\n",
    "            nn.ReLU(),\n",
    "            nn.Linear(hidden_size, num_classes),\n",
    "        )\n",
    "\n",
    "    def forward(self, x, aspect_vectors):\n",
    "        h0 = torch.zeros(self.num_layers * 2 if self.bidirectional else self.num_layers, x.size(0), self.hidden_size).to(x.device)\n",
    "\n",
    "        gru_output, h_n = self.gru(x, h0)\n",
    "        attention_weights = self.attention(gru_output, aspect_vectors)\n",
    "        attention_weights = attention_weights.unsqueeze(2)\n",
    "        weighted = gru_output * attention_weights\n",
    "        weighted_sum = weighted.sum(dim=1)\n",
    "        out = self.fc(weighted_sum)\n",
    "        return out, attention_weights.squeeze(2)\n",
    "# Set device\n",
    "device = torch.device('cuda' if torch.cuda.is_available() else 'cpu')\n",
    "\n",
    "# Hyperparameters\n",
    "input_size = 50\n",
    "hidden_size = 256\n",
    "num_layers = 2\n",
    "num_classes = 3\n",
    "batch_size = 256\n",
    "num_epochs = 20\n",
    "learning_rate = 0.001\n",
    "\n",
    "# Batch Creation\n",
    "max_len = 70\n",
    "batches = model_3_batches(train_corpus_c_sww, batch_size, max_len)\n",
    "\n",
    "model_gru_sww = BiGRUClassifierWithAttention(input_size, hidden_size, num_layers, num_classes).to(device)\n",
    "\n",
    "# Loss and optimizer\n",
    "criterion = nn.CrossEntropyLoss()\n",
    "optimizer = optim.Adam(model_gru_sww.parameters(), lr=learning_rate)\n",
    "\n",
    "# Train the model\n",
    "for epoch in range(num_epochs):\n",
    "    loss_model = 0\n",
    "    for batch in batches:\n",
    "        sentence_vectors, aspect_vectors, polarities = zip(*batch)\n",
    "        sentence_vectors = torch.stack(sentence_vectors).to(device)\n",
    "        aspect_vectors = torch.stack(aspect_vectors).to(device)\n",
    "        polarities = torch.stack(polarities).to(device)\n",
    "\n",
    "        outputs, attention_weights = model_gru_sww(sentence_vectors, aspect_vectors)\n",
    "        loss = criterion(outputs, polarities)\n",
    "        loss_model +=loss.item()\n",
    "        optimizer.zero_grad()\n",
    "        loss.backward()\n",
    "        optimizer.step()\n",
    "\n",
    "    print(f'Epoch [{epoch+1}/{num_epochs}], Loss: {loss_model:.4f}')\n",
    "\n",
    "model_gru_sww.eval()\n",
    "with torch.no_grad():\n",
    "    correct = 0\n",
    "    total = 0\n",
    "    for batch in batches:\n",
    "        sentence_vectors, aspect_vectors, polarities = zip(*batch)\n",
    "        sentence_vectors = torch.stack(sentence_vectors).to(device)\n",
    "        aspect_vectors = torch.stack(aspect_vectors).to(device)\n",
    "        polarities = torch.stack(polarities).to(device)\n",
    "        outputs, attention_weights = model_gru_sww(sentence_vectors, aspect_vectors)\n",
    "        _, predicted = torch.max(outputs.data, 1)\n",
    "        total += polarities.size(0)\n",
    "        correct += (predicted == polarities).sum().item()\n",
    "    accuracy = 100 * correct / total\n",
    "    print(f'Train Accuracy: {accuracy:.2f}%')"
   ]
  },
  {
   "cell_type": "code",
   "execution_count": 343,
   "metadata": {
    "colab": {
     "base_uri": "https://localhost:8080/"
    },
    "id": "zJkZWq2kpuZZ",
    "outputId": "68236fd4-b708-499a-cf64-14b5597b3153"
   },
   "outputs": [
    {
     "name": "stdout",
     "output_type": "stream",
     "text": [
      "Test Accuracy: 64.59%\n"
     ]
    }
   ],
   "source": [
    "model_gru_sww.eval()\n",
    "with torch.no_grad():\n",
    "    correct = 0\n",
    "    total = 0\n",
    "    batches = model_3_batches(test_corpus_c_sww, batch_size, max_len)\n",
    "    for batch in batches:\n",
    "        sentence_vectors, aspect_vectors, polarities = zip(*batch)\n",
    "        sentence_vectors = torch.stack(sentence_vectors).to(device)\n",
    "        aspect_vectors = torch.stack(aspect_vectors).to(device)\n",
    "        polarities = torch.stack(polarities).to(device)\n",
    "        outputs, attention_weights = model_gru_sww(sentence_vectors, aspect_vectors)\n",
    "        _, predicted = torch.max(outputs.data, 1)\n",
    "        total += polarities.size(0)\n",
    "        correct += (predicted == polarities).sum().item()\n",
    "    accuracy = 100 * correct / total\n",
    "    print(f'Test Accuracy: {accuracy:.2f}%')"
   ]
  },
  {
   "cell_type": "markdown",
   "metadata": {
    "id": "sMFRmFlL9IIF"
   },
   "source": [
    "# 3.Testing and Evaluation"
   ]
  },
  {
   "cell_type": "markdown",
   "metadata": {
    "id": "if3HpP3n-6Si"
   },
   "source": [
    "## Testing on Bi-LSTM varient-1"
   ]
  },
  {
   "cell_type": "code",
   "execution_count": 327,
   "metadata": {
    "colab": {
     "base_uri": "https://localhost:8080/"
    },
    "id": "8qM_OIhF0WdH",
    "outputId": "5bfb0b67-ecf3-411d-9adb-55965c1d4130"
   },
   "outputs": [
    {
     "name": "stdout",
     "output_type": "stream",
     "text": [
      "precision: 61.91%\n",
      "recall: 63.37%\n",
      "f1-score: 61.75%\n",
      "Test Accuracy: 63.37%\n"
     ]
    }
   ],
   "source": [
    "from sklearn.metrics import precision_score, accuracy_score, recall_score, f1_score\n",
    "model_1_c_sww.eval()\n",
    "with torch.no_grad():\n",
    "  pred_polarity=[]\n",
    "  act_polarity=[]\n",
    "  correct=0\n",
    "  total=0\n",
    "  crr=0\n",
    "  batches = model_1_batches(test_corpus_c_sww, batch_size, max_len)\n",
    "  for batch in batches:\n",
    "    sentence_vectors, polarities = zip(*batch)\n",
    "    sentence_vectors = torch.stack(sentence_vectors).to(device)\n",
    "    polarities = torch.stack(polarities).to(device)\n",
    "\n",
    "    outputs = model_1_c_sww(sentence_vectors)\n",
    "    _, predicted = torch.max(outputs.data, 1)\n",
    "    pred_polarity.extend(predicted)\n",
    "    act_polarity.extend(polarities)\n",
    "    total += polarities.size(0)\n",
    "    correct += (predicted == polarities).sum().item()\n",
    "  accuracy = 100 * correct / total\n",
    "\n",
    "  act_polarity = [int(i) for i in act_polarity]\n",
    "  pred_polarity = [int(i) for i in pred_polarity]\n",
    "\n",
    "  p_score = precision_score(act_polarity, pred_polarity, average=\"weighted\")\n",
    "  r_score = recall_score(act_polarity, pred_polarity, average=\"weighted\")\n",
    "  f1_score = f1_score(act_polarity, pred_polarity, average=\"weighted\")\n",
    "\n",
    "  print(f'precision: {100*(p_score):.2f}%')\n",
    "  print(f'recall: {100*(r_score):.2f}%')\n",
    "  print(f'f1-score: {100*(f1_score):.2f}%')\n",
    "  print(f'Test Accuracy: {accuracy:.2f}%')"
   ]
  },
  {
   "cell_type": "markdown",
   "metadata": {
    "id": "GRt0L4EL_Ujx"
   },
   "source": [
    "## Testing on Bi-LSTM varient-2"
   ]
  },
  {
   "cell_type": "code",
   "execution_count": 323,
   "metadata": {
    "colab": {
     "base_uri": "https://localhost:8080/"
    },
    "id": "eVGoJcmoz8vm",
    "outputId": "a868f0a9-5222-4093-f843-345e313c3781"
   },
   "outputs": [
    {
     "name": "stdout",
     "output_type": "stream",
     "text": [
      "precision: 62.74%\n",
      "recall: 63.60%\n",
      "f1-score: 62.58%\n",
      "Test Accuracy: 63.60%\n"
     ]
    }
   ],
   "source": [
    "model_2_c_sww.eval()\n",
    "with torch.no_grad():\n",
    "    correct = 0\n",
    "    total = 0\n",
    "    pred_polarity=[]\n",
    "    act_polarity=[]\n",
    "    batches = model_2_batches(test_corpus_c_sww,batch_size, max_len)\n",
    "    for batch in batches:\n",
    "        sentence_vectors, aspect_vectors, polarities = zip(*batch)\n",
    "        sentence_vectors = torch.stack(sentence_vectors).to(device)\n",
    "        aspect_vectors = torch.stack(aspect_vectors).to(device)\n",
    "        polarities = torch.stack(polarities).to(device)\n",
    "\n",
    "        outputs = model_2_c_sww(sentence_vectors, aspect_vectors)\n",
    "        _, predicted = torch.max(outputs.data, 1)\n",
    "        pred_polarity.extend(predicted)\n",
    "        act_polarity.extend(polarities)\n",
    "        total += polarities.size(0)\n",
    "        correct += (predicted == polarities).sum().item()\n",
    "\n",
    "    act_polarity = [int(i) for i in act_polarity]\n",
    "    pred_polarity = [int(i) for i in pred_polarity]\n",
    "    accuracy = 100 * correct / total\n",
    "\n",
    "    p_score=precision_score(act_polarity, pred_polarity, average=\"weighted\")\n",
    "    r_score=recall_score(act_polarity, pred_polarity, average=\"weighted\")\n",
    "    f1_score=f1_score(act_polarity, pred_polarity, average=\"weighted\")\n",
    "\n",
    "    print(f'precision: {100*(p_score):.2f}%')\n",
    "    print(f'recall: {100*(r_score):.2f}%')\n",
    "    print(f'f1-score: {100*(f1_score):.2f}%')\n",
    "    print(f'Test Accuracy: {accuracy:.2f}%')\n"
   ]
  },
  {
   "cell_type": "markdown",
   "metadata": {
    "id": "ahKobuBz_mkv"
   },
   "source": [
    "## Testing on Attention Model"
   ]
  },
  {
   "cell_type": "code",
   "execution_count": 326,
   "metadata": {
    "colab": {
     "base_uri": "https://localhost:8080/"
    },
    "id": "mMeeI25M1JgY",
    "outputId": "e7551029-41ec-466c-8f0a-19d1967bd21b"
   },
   "outputs": [
    {
     "name": "stdout",
     "output_type": "stream",
     "text": [
      "precision: 64.33%\n",
      "recall: 64.04%\n",
      "f1-score: 64.14%\n",
      "Test Accuracy: 64.04%\n"
     ]
    }
   ],
   "source": [
    "model_c_sww.eval()\n",
    "with torch.no_grad():\n",
    "    correct = 0\n",
    "    total = 0\n",
    "    pred_polarity=[]\n",
    "    act_polarity=[]\n",
    "    batches = model_1_batches(test_corpus_c_sww,batch_size, max_len)\n",
    "    for batch in batches:\n",
    "        sentence_vectors, polarities = zip(*batch)\n",
    "        sentence_vectors = torch.stack(sentence_vectors).to(device)\n",
    "        polarities = torch.stack(polarities).to(device)\n",
    "        outputs, attention_weights = model_c_sww(sentence_vectors)\n",
    "        _, predicted = torch.max(outputs.data, 1)\n",
    "        pred_polarity.extend(predicted)\n",
    "        act_polarity.extend(polarities)\n",
    "        total += polarities.size(0)\n",
    "        correct += (predicted == polarities).sum().item()\n",
    "    accuracy = 100 * correct / total\n",
    "\n",
    "    act_polarity = [int(i) for i in act_polarity]\n",
    "    pred_polarity = [int(i) for i in pred_polarity]\n",
    "\n",
    "    p_score=precision_score(act_polarity, pred_polarity, average=\"weighted\")\n",
    "    r_score=recall_score(act_polarity, pred_polarity, average=\"weighted\")\n",
    "    f1_score=f1_score(act_polarity, pred_polarity, average=\"weighted\")\n",
    "\n",
    "    print(f'precision: {100*(p_score):.2f}%')\n",
    "    print(f'recall: {100*(r_score):.2f}%')\n",
    "    print(f'f1-score: {100*(f1_score):.2f}%')\n",
    "    print(f'Test Accuracy: {accuracy:.2f}%')"
   ]
  },
  {
   "cell_type": "code",
   "execution_count": 337,
   "metadata": {
    "colab": {
     "base_uri": "https://localhost:8080/"
    },
    "id": "Y8D-cCmkmzhD",
    "outputId": "a0e1f352-dcc3-4416-e061-e6b59635105e"
   },
   "outputs": [
    {
     "name": "stdout",
     "output_type": "stream",
     "text": [
      "Epoch [1/20], Loss: 28.2862\n",
      "Epoch [2/20], Loss: 24.5082\n",
      "Epoch [3/20], Loss: 23.7795\n",
      "Epoch [4/20], Loss: 23.1023\n",
      "Epoch [5/20], Loss: 22.5917\n",
      "Epoch [6/20], Loss: 22.2497\n",
      "Epoch [7/20], Loss: 21.7570\n",
      "Epoch [8/20], Loss: 21.0685\n",
      "Epoch [9/20], Loss: 20.4015\n",
      "Epoch [10/20], Loss: 19.8215\n",
      "Epoch [11/20], Loss: 18.9575\n",
      "Epoch [12/20], Loss: 18.0702\n",
      "Epoch [13/20], Loss: 17.6005\n",
      "Epoch [14/20], Loss: 17.2234\n",
      "Epoch [15/20], Loss: 16.0303\n",
      "Epoch [16/20], Loss: 14.5252\n",
      "Epoch [17/20], Loss: 14.0334\n",
      "Epoch [18/20], Loss: 12.5849\n",
      "Epoch [19/20], Loss: 11.5607\n",
      "Epoch [20/20], Loss: 11.7134\n",
      "Train Accuracy: 85.18%\n"
     ]
    }
   ],
   "source": []
  },
  {
   "cell_type": "code",
   "execution_count": 339,
   "metadata": {
    "colab": {
     "base_uri": "https://localhost:8080/"
    },
    "id": "L1LzEtfJoTRt",
    "outputId": "4635a9fa-021c-46b1-c53d-2c2a967c6a2e"
   },
   "outputs": [
    {
     "name": "stdout",
     "output_type": "stream",
     "text": [
      "Test Accuracy: 64.82%\n"
     ]
    }
   ],
   "source": []
  },
  {
   "cell_type": "code",
   "execution_count": null,
   "metadata": {
    "id": "XIl0Nf9fphI_"
   },
   "outputs": [],
   "source": []
  }
 ],
 "metadata": {
  "accelerator": "GPU",
  "colab": {
   "gpuType": "T4",
   "provenance": []
  },
  "kernelspec": {
   "display_name": "Python 3 (ipykernel)",
   "language": "python",
   "name": "python3"
  },
  "language_info": {
   "codemirror_mode": {
    "name": "ipython",
    "version": 3
   },
   "file_extension": ".py",
   "mimetype": "text/x-python",
   "name": "python",
   "nbconvert_exporter": "python",
   "pygments_lexer": "ipython3",
   "version": "3.10.9"
  }
 },
 "nbformat": 4,
 "nbformat_minor": 1
}
